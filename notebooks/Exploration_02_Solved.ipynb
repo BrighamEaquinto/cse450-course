{
  "nbformat": 4,
  "nbformat_minor": 0,
  "metadata": {
    "colab": {
      "name": "Exploration-02-Solved.ipynb",
      "provenance": [],
      "collapsed_sections": []
    },
    "kernelspec": {
      "name": "python3",
      "display_name": "Python 3"
    }
  },
  "cells": [
    {
      "cell_type": "markdown",
      "metadata": {
        "id": "LB9TN5GKEyhw"
      },
      "source": [
        "# Data Exploration 02\n",
        "\n",
        "You're working as a data analyst at a cereal marketing company in New York. \n",
        "\n",
        "In a strategy meeting, the marketing director tells you that in 2018, the US weight loss industry was worth over $72 Billion dollars, growing 4% compared to the previous year.\n",
        "\n",
        "In contrast, sales of cold cereal fell 6% to $8.5 billion during the same time period.\n",
        "\n",
        "Cereal executives have approached the marketing company asking how they can somehow tap into the weight loss market growth to boost the sales of their cereal brands.\n",
        "\n",
        "Your assignment is to analyze a dataset of nutritional information for major US cereals, and calculate some metrics that can be used by the marketing team."
      ]
    },
    {
      "cell_type": "markdown",
      "metadata": {
        "id": "agqlq8RKFbry"
      },
      "source": [
        "## Part 1: Import Pandas and load the data\n",
        "\n",
        "Remember to import Pandas the conventional way. If you've forgotten how, you may want to review [Data Exploration 01](https://byui-cse.github.io/cse450-course/module-01/exploration-01.html).\n",
        "\n",
        "The dataset for this exploration is stored at the following url:\n",
        "\n",
        "[https://raw.githubusercontent.com/byui-cse/cse450-course/master/data/cereal.csv](https://raw.githubusercontent.com/byui-cse/cse450-course/master/data/cereal.csv)\n",
        "\n",
        "There are lots of ways to load data into your workspace. The easiest way in this case is to [ask Pandas to do it for you](https://pandas.pydata.org/docs/getting_started/intro_tutorials/02_read_write.html).\n",
        "\n",
        "### Initial Data Analysis\n",
        "Once you've loaded the data, it's a good idea to poke around a little bit to find out what you're dealing with.\n",
        "\n",
        "Some questions you might ask include:\n",
        "\n",
        "* What does the data look like?\n",
        "* What kind of data is in each column? \n",
        "* Do any of the columns have missing values? "
      ]
    },
    {
      "cell_type": "code",
      "metadata": {
        "id": "14b9y6LKEvEm",
        "outputId": "ae8034ca-3cde-4dfb-b806-68763ed3b01b",
        "colab": {
          "base_uri": "https://localhost:8080/",
          "height": 612
        }
      },
      "source": [
        "# Part 1: Enter your code below to import Pandas according to the \n",
        "# conventional method. Then load the dataset into a Pandas dataframe.\n",
        "import pandas as pd\n",
        "cereal = pd.read_csv('https://raw.githubusercontent.com/byui-cse/cse450-course/master/data/cereal.csv')\n",
        "\n",
        "# Write any code needed to explore the data by seeing what the first few \n",
        "# rows look like. Then display a technical summary of the data to determine\n",
        "# the data types of each column, and which columns have missing data.\n",
        "cereal.info()\n",
        "cereal.head()"
      ],
      "execution_count": 1,
      "outputs": [
        {
          "output_type": "stream",
          "text": [
            "<class 'pandas.core.frame.DataFrame'>\n",
            "RangeIndex: 77 entries, 0 to 76\n",
            "Data columns (total 16 columns):\n",
            " #   Column    Non-Null Count  Dtype  \n",
            "---  ------    --------------  -----  \n",
            " 0   name      77 non-null     object \n",
            " 1   mfr       77 non-null     object \n",
            " 2   type      77 non-null     object \n",
            " 3   calories  77 non-null     int64  \n",
            " 4   protein   77 non-null     int64  \n",
            " 5   fat       77 non-null     int64  \n",
            " 6   sodium    77 non-null     int64  \n",
            " 7   fiber     77 non-null     float64\n",
            " 8   carbo     77 non-null     float64\n",
            " 9   sugars    77 non-null     int64  \n",
            " 10  potass    77 non-null     int64  \n",
            " 11  vitamins  77 non-null     int64  \n",
            " 12  shelf     77 non-null     int64  \n",
            " 13  weight    77 non-null     float64\n",
            " 14  cups      77 non-null     float64\n",
            " 15  rating    77 non-null     float64\n",
            "dtypes: float64(5), int64(8), object(3)\n",
            "memory usage: 9.8+ KB\n"
          ],
          "name": "stdout"
        },
        {
          "output_type": "execute_result",
          "data": {
            "text/html": [
              "<div>\n",
              "<style scoped>\n",
              "    .dataframe tbody tr th:only-of-type {\n",
              "        vertical-align: middle;\n",
              "    }\n",
              "\n",
              "    .dataframe tbody tr th {\n",
              "        vertical-align: top;\n",
              "    }\n",
              "\n",
              "    .dataframe thead th {\n",
              "        text-align: right;\n",
              "    }\n",
              "</style>\n",
              "<table border=\"1\" class=\"dataframe\">\n",
              "  <thead>\n",
              "    <tr style=\"text-align: right;\">\n",
              "      <th></th>\n",
              "      <th>name</th>\n",
              "      <th>mfr</th>\n",
              "      <th>type</th>\n",
              "      <th>calories</th>\n",
              "      <th>protein</th>\n",
              "      <th>fat</th>\n",
              "      <th>sodium</th>\n",
              "      <th>fiber</th>\n",
              "      <th>carbo</th>\n",
              "      <th>sugars</th>\n",
              "      <th>potass</th>\n",
              "      <th>vitamins</th>\n",
              "      <th>shelf</th>\n",
              "      <th>weight</th>\n",
              "      <th>cups</th>\n",
              "      <th>rating</th>\n",
              "    </tr>\n",
              "  </thead>\n",
              "  <tbody>\n",
              "    <tr>\n",
              "      <th>0</th>\n",
              "      <td>100% Bran</td>\n",
              "      <td>N</td>\n",
              "      <td>C</td>\n",
              "      <td>70</td>\n",
              "      <td>4</td>\n",
              "      <td>1</td>\n",
              "      <td>130</td>\n",
              "      <td>10.0</td>\n",
              "      <td>5.0</td>\n",
              "      <td>6</td>\n",
              "      <td>280</td>\n",
              "      <td>25</td>\n",
              "      <td>3</td>\n",
              "      <td>1.0</td>\n",
              "      <td>0.33</td>\n",
              "      <td>68.402973</td>\n",
              "    </tr>\n",
              "    <tr>\n",
              "      <th>1</th>\n",
              "      <td>100% Natural Bran</td>\n",
              "      <td>Q</td>\n",
              "      <td>C</td>\n",
              "      <td>120</td>\n",
              "      <td>3</td>\n",
              "      <td>5</td>\n",
              "      <td>15</td>\n",
              "      <td>2.0</td>\n",
              "      <td>8.0</td>\n",
              "      <td>8</td>\n",
              "      <td>135</td>\n",
              "      <td>0</td>\n",
              "      <td>3</td>\n",
              "      <td>1.0</td>\n",
              "      <td>1.00</td>\n",
              "      <td>33.983679</td>\n",
              "    </tr>\n",
              "    <tr>\n",
              "      <th>2</th>\n",
              "      <td>All-Bran</td>\n",
              "      <td>K</td>\n",
              "      <td>C</td>\n",
              "      <td>70</td>\n",
              "      <td>4</td>\n",
              "      <td>1</td>\n",
              "      <td>260</td>\n",
              "      <td>9.0</td>\n",
              "      <td>7.0</td>\n",
              "      <td>5</td>\n",
              "      <td>320</td>\n",
              "      <td>25</td>\n",
              "      <td>3</td>\n",
              "      <td>1.0</td>\n",
              "      <td>0.33</td>\n",
              "      <td>59.425505</td>\n",
              "    </tr>\n",
              "    <tr>\n",
              "      <th>3</th>\n",
              "      <td>All-Bran with Extra Fiber</td>\n",
              "      <td>K</td>\n",
              "      <td>C</td>\n",
              "      <td>50</td>\n",
              "      <td>4</td>\n",
              "      <td>0</td>\n",
              "      <td>140</td>\n",
              "      <td>14.0</td>\n",
              "      <td>8.0</td>\n",
              "      <td>0</td>\n",
              "      <td>330</td>\n",
              "      <td>25</td>\n",
              "      <td>3</td>\n",
              "      <td>1.0</td>\n",
              "      <td>0.50</td>\n",
              "      <td>93.704912</td>\n",
              "    </tr>\n",
              "    <tr>\n",
              "      <th>4</th>\n",
              "      <td>Almond Delight</td>\n",
              "      <td>R</td>\n",
              "      <td>C</td>\n",
              "      <td>110</td>\n",
              "      <td>2</td>\n",
              "      <td>2</td>\n",
              "      <td>200</td>\n",
              "      <td>1.0</td>\n",
              "      <td>14.0</td>\n",
              "      <td>8</td>\n",
              "      <td>-1</td>\n",
              "      <td>25</td>\n",
              "      <td>3</td>\n",
              "      <td>1.0</td>\n",
              "      <td>0.75</td>\n",
              "      <td>34.384843</td>\n",
              "    </tr>\n",
              "  </tbody>\n",
              "</table>\n",
              "</div>"
            ],
            "text/plain": [
              "                        name mfr type  calories  ...  shelf  weight  cups     rating\n",
              "0                  100% Bran   N    C        70  ...      3     1.0  0.33  68.402973\n",
              "1          100% Natural Bran   Q    C       120  ...      3     1.0  1.00  33.983679\n",
              "2                   All-Bran   K    C        70  ...      3     1.0  0.33  59.425505\n",
              "3  All-Bran with Extra Fiber   K    C        50  ...      3     1.0  0.50  93.704912\n",
              "4             Almond Delight   R    C       110  ...      3     1.0  0.75  34.384843\n",
              "\n",
              "[5 rows x 16 columns]"
            ]
          },
          "metadata": {
            "tags": []
          },
          "execution_count": 1
        }
      ]
    },
    {
      "cell_type": "markdown",
      "metadata": {
        "id": "q-O80D5JH9yA"
      },
      "source": [
        "## Part 2: Calculate Summary Statistics\n",
        "\n",
        "The marketing team has determined that when choosing a cereal, consumers are most interested in `calories`, `sugar`, `fiber`, `fat`, and `protein`.\n",
        "\n",
        "First, let's calcuate some summary statistics for these categories across the entire dataset. We're particularly intrested in the mean, median, standard deviation, min, and max values. \n",
        "\n",
        "There are [multiple ways to accomplish this](https://pandas.pydata.org/docs/getting_started/intro_tutorials/06_calculate_statistics.html)."
      ]
    },
    {
      "cell_type": "code",
      "metadata": {
        "id": "AMKxXySGJVnC",
        "outputId": "900e155b-4642-49a3-db54-fa540d7ccaa9",
        "colab": {
          "base_uri": "https://localhost:8080/",
          "height": 297
        }
      },
      "source": [
        "# Part 2: Enter your code below to calculate summary statistics for the \n",
        "# calories, sugar, fiber, fat, and protein columns.\n",
        "\n",
        "# The describe() function gives us almost everything we need (and more), but \n",
        "# doesn't include the median\n",
        "cereal[ ['calories', 'sugars', 'fiber', 'fat', 'protein'] ].describe()"
      ],
      "execution_count": 2,
      "outputs": [
        {
          "output_type": "execute_result",
          "data": {
            "text/html": [
              "<div>\n",
              "<style scoped>\n",
              "    .dataframe tbody tr th:only-of-type {\n",
              "        vertical-align: middle;\n",
              "    }\n",
              "\n",
              "    .dataframe tbody tr th {\n",
              "        vertical-align: top;\n",
              "    }\n",
              "\n",
              "    .dataframe thead th {\n",
              "        text-align: right;\n",
              "    }\n",
              "</style>\n",
              "<table border=\"1\" class=\"dataframe\">\n",
              "  <thead>\n",
              "    <tr style=\"text-align: right;\">\n",
              "      <th></th>\n",
              "      <th>calories</th>\n",
              "      <th>sugars</th>\n",
              "      <th>fiber</th>\n",
              "      <th>fat</th>\n",
              "      <th>protein</th>\n",
              "    </tr>\n",
              "  </thead>\n",
              "  <tbody>\n",
              "    <tr>\n",
              "      <th>count</th>\n",
              "      <td>77.000000</td>\n",
              "      <td>77.000000</td>\n",
              "      <td>77.000000</td>\n",
              "      <td>77.000000</td>\n",
              "      <td>77.000000</td>\n",
              "    </tr>\n",
              "    <tr>\n",
              "      <th>mean</th>\n",
              "      <td>106.883117</td>\n",
              "      <td>6.922078</td>\n",
              "      <td>2.151948</td>\n",
              "      <td>1.012987</td>\n",
              "      <td>2.545455</td>\n",
              "    </tr>\n",
              "    <tr>\n",
              "      <th>std</th>\n",
              "      <td>19.484119</td>\n",
              "      <td>4.444885</td>\n",
              "      <td>2.383364</td>\n",
              "      <td>1.006473</td>\n",
              "      <td>1.094790</td>\n",
              "    </tr>\n",
              "    <tr>\n",
              "      <th>min</th>\n",
              "      <td>50.000000</td>\n",
              "      <td>-1.000000</td>\n",
              "      <td>0.000000</td>\n",
              "      <td>0.000000</td>\n",
              "      <td>1.000000</td>\n",
              "    </tr>\n",
              "    <tr>\n",
              "      <th>25%</th>\n",
              "      <td>100.000000</td>\n",
              "      <td>3.000000</td>\n",
              "      <td>1.000000</td>\n",
              "      <td>0.000000</td>\n",
              "      <td>2.000000</td>\n",
              "    </tr>\n",
              "    <tr>\n",
              "      <th>50%</th>\n",
              "      <td>110.000000</td>\n",
              "      <td>7.000000</td>\n",
              "      <td>2.000000</td>\n",
              "      <td>1.000000</td>\n",
              "      <td>3.000000</td>\n",
              "    </tr>\n",
              "    <tr>\n",
              "      <th>75%</th>\n",
              "      <td>110.000000</td>\n",
              "      <td>11.000000</td>\n",
              "      <td>3.000000</td>\n",
              "      <td>2.000000</td>\n",
              "      <td>3.000000</td>\n",
              "    </tr>\n",
              "    <tr>\n",
              "      <th>max</th>\n",
              "      <td>160.000000</td>\n",
              "      <td>15.000000</td>\n",
              "      <td>14.000000</td>\n",
              "      <td>5.000000</td>\n",
              "      <td>6.000000</td>\n",
              "    </tr>\n",
              "  </tbody>\n",
              "</table>\n",
              "</div>"
            ],
            "text/plain": [
              "         calories     sugars      fiber        fat    protein\n",
              "count   77.000000  77.000000  77.000000  77.000000  77.000000\n",
              "mean   106.883117   6.922078   2.151948   1.012987   2.545455\n",
              "std     19.484119   4.444885   2.383364   1.006473   1.094790\n",
              "min     50.000000  -1.000000   0.000000   0.000000   1.000000\n",
              "25%    100.000000   3.000000   1.000000   0.000000   2.000000\n",
              "50%    110.000000   7.000000   2.000000   1.000000   3.000000\n",
              "75%    110.000000  11.000000   3.000000   2.000000   3.000000\n",
              "max    160.000000  15.000000  14.000000   5.000000   6.000000"
            ]
          },
          "metadata": {
            "tags": []
          },
          "execution_count": 2
        }
      ]
    },
    {
      "cell_type": "code",
      "metadata": {
        "id": "ul2E9zkaHcN3",
        "outputId": "3d960ae5-86c9-4548-83b0-6b4a805f6bb0",
        "colab": {
          "base_uri": "https://localhost:8080/",
          "height": 119
        }
      },
      "source": [
        "# We can get the median separately this way:\n",
        "cereal[ ['calories', 'sugars', 'fiber', 'fat', 'protein'] ].median()\n"
      ],
      "execution_count": 3,
      "outputs": [
        {
          "output_type": "execute_result",
          "data": {
            "text/plain": [
              "calories    110.0\n",
              "sugars        7.0\n",
              "fiber         2.0\n",
              "fat           1.0\n",
              "protein       3.0\n",
              "dtype: float64"
            ]
          },
          "metadata": {
            "tags": []
          },
          "execution_count": 3
        }
      ]
    },
    {
      "cell_type": "code",
      "metadata": {
        "id": "nFBbwFy6Hdjj",
        "outputId": "60119393-10d4-4f20-b17d-01bee28c022d",
        "colab": {
          "base_uri": "https://localhost:8080/",
          "height": 204
        }
      },
      "source": [
        "# Or we can ask for exactly what we want using the aggregate function:\n",
        "cereal[ ['calories', 'sugars', 'fiber', 'fat', 'protein'] ].agg(['mean', 'median', 'std', 'min', 'max'])"
      ],
      "execution_count": 4,
      "outputs": [
        {
          "output_type": "execute_result",
          "data": {
            "text/html": [
              "<div>\n",
              "<style scoped>\n",
              "    .dataframe tbody tr th:only-of-type {\n",
              "        vertical-align: middle;\n",
              "    }\n",
              "\n",
              "    .dataframe tbody tr th {\n",
              "        vertical-align: top;\n",
              "    }\n",
              "\n",
              "    .dataframe thead th {\n",
              "        text-align: right;\n",
              "    }\n",
              "</style>\n",
              "<table border=\"1\" class=\"dataframe\">\n",
              "  <thead>\n",
              "    <tr style=\"text-align: right;\">\n",
              "      <th></th>\n",
              "      <th>calories</th>\n",
              "      <th>sugars</th>\n",
              "      <th>fiber</th>\n",
              "      <th>fat</th>\n",
              "      <th>protein</th>\n",
              "    </tr>\n",
              "  </thead>\n",
              "  <tbody>\n",
              "    <tr>\n",
              "      <th>mean</th>\n",
              "      <td>106.883117</td>\n",
              "      <td>6.922078</td>\n",
              "      <td>2.151948</td>\n",
              "      <td>1.012987</td>\n",
              "      <td>2.545455</td>\n",
              "    </tr>\n",
              "    <tr>\n",
              "      <th>median</th>\n",
              "      <td>110.000000</td>\n",
              "      <td>7.000000</td>\n",
              "      <td>2.000000</td>\n",
              "      <td>1.000000</td>\n",
              "      <td>3.000000</td>\n",
              "    </tr>\n",
              "    <tr>\n",
              "      <th>std</th>\n",
              "      <td>19.484119</td>\n",
              "      <td>4.444885</td>\n",
              "      <td>2.383364</td>\n",
              "      <td>1.006473</td>\n",
              "      <td>1.094790</td>\n",
              "    </tr>\n",
              "    <tr>\n",
              "      <th>min</th>\n",
              "      <td>50.000000</td>\n",
              "      <td>-1.000000</td>\n",
              "      <td>0.000000</td>\n",
              "      <td>0.000000</td>\n",
              "      <td>1.000000</td>\n",
              "    </tr>\n",
              "    <tr>\n",
              "      <th>max</th>\n",
              "      <td>160.000000</td>\n",
              "      <td>15.000000</td>\n",
              "      <td>14.000000</td>\n",
              "      <td>5.000000</td>\n",
              "      <td>6.000000</td>\n",
              "    </tr>\n",
              "  </tbody>\n",
              "</table>\n",
              "</div>"
            ],
            "text/plain": [
              "          calories     sugars      fiber       fat   protein\n",
              "mean    106.883117   6.922078   2.151948  1.012987  2.545455\n",
              "median  110.000000   7.000000   2.000000  1.000000  3.000000\n",
              "std      19.484119   4.444885   2.383364  1.006473  1.094790\n",
              "min      50.000000  -1.000000   0.000000  0.000000  1.000000\n",
              "max     160.000000  15.000000  14.000000  5.000000  6.000000"
            ]
          },
          "metadata": {
            "tags": []
          },
          "execution_count": 4
        }
      ]
    },
    {
      "cell_type": "markdown",
      "metadata": {
        "id": "CqdAa4EfJ9T0"
      },
      "source": [
        "## Part 3: Transform Data\n",
        "\n",
        "To make analysis easier, you want to convert the manufacturer codes used in the dataset to the manufacturer names. \n",
        "\n",
        "First, display the count of each manufacturer code value used in the dataset (found in the `mfr` column). \n",
        "\n",
        "Then, [create a new column with the appropriate manufacturer name for each entry](https://pandas.pydata.org/docs/getting_started/intro_tutorials/10_text_data.html), using this mapping:\n",
        "\n",
        "    A = American Home Food Products\n",
        "    G = General Mills\n",
        "    K = Kelloggs\n",
        "    N = Nabisco\n",
        "    P = Post\n",
        "    Q = Quaker Oats\n",
        "    R = Ralston Purina\n",
        "\n",
        "> Note: While the tutorial linked above uses the [`replace`](https://pandas.pydata.org/pandas-docs/stable/reference/api/pandas.Series.replace.html) function, using the [`map`](https://pandas.pydata.org/pandas-docs/stable/reference/api/pandas.Series.map.html) function instead can often be much faster and more memory efficient, especially for large datasets."
      ]
    },
    {
      "cell_type": "code",
      "metadata": {
        "id": "i8wdC-qpPjqF",
        "outputId": "daf23eff-b382-492e-ef8c-907ab07a6420",
        "colab": {
          "base_uri": "https://localhost:8080/",
          "height": 153
        }
      },
      "source": [
        "# Display the count of values for the manufacturer code (\"mfr\" column), then \n",
        "# create a new column containing the appropriate manufacturer names.\n",
        "\n",
        "# See which manufacturer codes we have\n",
        "cereal['mfr'].value_counts()"
      ],
      "execution_count": 5,
      "outputs": [
        {
          "output_type": "execute_result",
          "data": {
            "text/plain": [
              "K    23\n",
              "G    22\n",
              "P     9\n",
              "Q     8\n",
              "R     8\n",
              "N     6\n",
              "A     1\n",
              "Name: mfr, dtype: int64"
            ]
          },
          "metadata": {
            "tags": []
          },
          "execution_count": 5
        }
      ]
    },
    {
      "cell_type": "code",
      "metadata": {
        "id": "k0JsIqCt_gME",
        "outputId": "ed576446-73cc-4d80-fdbb-be809662239b",
        "colab": {
          "base_uri": "https://localhost:8080/",
          "height": 669
        }
      },
      "source": [
        "# Now do the mapping (could also use replace() instead of map(), but map is faster)\n",
        "cereal['mfr_name'] = cereal['mfr'].map({\n",
        "    'A' : 'American Home Food Products',\n",
        "    'G' : 'General Mills',\n",
        "    'K' : 'Kelloggs',\n",
        "    'N' : 'Nabisco',\n",
        "    'P' : 'Post',\n",
        "    'Q' : 'Quaker Oats',\n",
        "    'R' : 'Ralston Purina'})\n",
        "\n",
        "# Check a few rows to see if it worked\n",
        "cereal[['name', 'mfr', 'mfr_name']].head(20)"
      ],
      "execution_count": 6,
      "outputs": [
        {
          "output_type": "execute_result",
          "data": {
            "text/html": [
              "<div>\n",
              "<style scoped>\n",
              "    .dataframe tbody tr th:only-of-type {\n",
              "        vertical-align: middle;\n",
              "    }\n",
              "\n",
              "    .dataframe tbody tr th {\n",
              "        vertical-align: top;\n",
              "    }\n",
              "\n",
              "    .dataframe thead th {\n",
              "        text-align: right;\n",
              "    }\n",
              "</style>\n",
              "<table border=\"1\" class=\"dataframe\">\n",
              "  <thead>\n",
              "    <tr style=\"text-align: right;\">\n",
              "      <th></th>\n",
              "      <th>name</th>\n",
              "      <th>mfr</th>\n",
              "      <th>mfr_name</th>\n",
              "    </tr>\n",
              "  </thead>\n",
              "  <tbody>\n",
              "    <tr>\n",
              "      <th>0</th>\n",
              "      <td>100% Bran</td>\n",
              "      <td>N</td>\n",
              "      <td>Nabisco</td>\n",
              "    </tr>\n",
              "    <tr>\n",
              "      <th>1</th>\n",
              "      <td>100% Natural Bran</td>\n",
              "      <td>Q</td>\n",
              "      <td>Quaker Oats</td>\n",
              "    </tr>\n",
              "    <tr>\n",
              "      <th>2</th>\n",
              "      <td>All-Bran</td>\n",
              "      <td>K</td>\n",
              "      <td>Kelloggs</td>\n",
              "    </tr>\n",
              "    <tr>\n",
              "      <th>3</th>\n",
              "      <td>All-Bran with Extra Fiber</td>\n",
              "      <td>K</td>\n",
              "      <td>Kelloggs</td>\n",
              "    </tr>\n",
              "    <tr>\n",
              "      <th>4</th>\n",
              "      <td>Almond Delight</td>\n",
              "      <td>R</td>\n",
              "      <td>Ralston Purina</td>\n",
              "    </tr>\n",
              "    <tr>\n",
              "      <th>5</th>\n",
              "      <td>Apple Cinnamon Cheerios</td>\n",
              "      <td>G</td>\n",
              "      <td>General Mills</td>\n",
              "    </tr>\n",
              "    <tr>\n",
              "      <th>6</th>\n",
              "      <td>Apple Jacks</td>\n",
              "      <td>K</td>\n",
              "      <td>Kelloggs</td>\n",
              "    </tr>\n",
              "    <tr>\n",
              "      <th>7</th>\n",
              "      <td>Basic 4</td>\n",
              "      <td>G</td>\n",
              "      <td>General Mills</td>\n",
              "    </tr>\n",
              "    <tr>\n",
              "      <th>8</th>\n",
              "      <td>Bran Chex</td>\n",
              "      <td>R</td>\n",
              "      <td>Ralston Purina</td>\n",
              "    </tr>\n",
              "    <tr>\n",
              "      <th>9</th>\n",
              "      <td>Bran Flakes</td>\n",
              "      <td>P</td>\n",
              "      <td>Post</td>\n",
              "    </tr>\n",
              "    <tr>\n",
              "      <th>10</th>\n",
              "      <td>Cap'n'Crunch</td>\n",
              "      <td>Q</td>\n",
              "      <td>Quaker Oats</td>\n",
              "    </tr>\n",
              "    <tr>\n",
              "      <th>11</th>\n",
              "      <td>Cheerios</td>\n",
              "      <td>G</td>\n",
              "      <td>General Mills</td>\n",
              "    </tr>\n",
              "    <tr>\n",
              "      <th>12</th>\n",
              "      <td>Cinnamon Toast Crunch</td>\n",
              "      <td>G</td>\n",
              "      <td>General Mills</td>\n",
              "    </tr>\n",
              "    <tr>\n",
              "      <th>13</th>\n",
              "      <td>Clusters</td>\n",
              "      <td>G</td>\n",
              "      <td>General Mills</td>\n",
              "    </tr>\n",
              "    <tr>\n",
              "      <th>14</th>\n",
              "      <td>Cocoa Puffs</td>\n",
              "      <td>G</td>\n",
              "      <td>General Mills</td>\n",
              "    </tr>\n",
              "    <tr>\n",
              "      <th>15</th>\n",
              "      <td>Corn Chex</td>\n",
              "      <td>R</td>\n",
              "      <td>Ralston Purina</td>\n",
              "    </tr>\n",
              "    <tr>\n",
              "      <th>16</th>\n",
              "      <td>Corn Flakes</td>\n",
              "      <td>K</td>\n",
              "      <td>Kelloggs</td>\n",
              "    </tr>\n",
              "    <tr>\n",
              "      <th>17</th>\n",
              "      <td>Corn Pops</td>\n",
              "      <td>K</td>\n",
              "      <td>Kelloggs</td>\n",
              "    </tr>\n",
              "    <tr>\n",
              "      <th>18</th>\n",
              "      <td>Count Chocula</td>\n",
              "      <td>G</td>\n",
              "      <td>General Mills</td>\n",
              "    </tr>\n",
              "    <tr>\n",
              "      <th>19</th>\n",
              "      <td>Cracklin' Oat Bran</td>\n",
              "      <td>K</td>\n",
              "      <td>Kelloggs</td>\n",
              "    </tr>\n",
              "  </tbody>\n",
              "</table>\n",
              "</div>"
            ],
            "text/plain": [
              "                         name mfr        mfr_name\n",
              "0                   100% Bran   N         Nabisco\n",
              "1           100% Natural Bran   Q     Quaker Oats\n",
              "2                    All-Bran   K        Kelloggs\n",
              "3   All-Bran with Extra Fiber   K        Kelloggs\n",
              "4              Almond Delight   R  Ralston Purina\n",
              "5     Apple Cinnamon Cheerios   G   General Mills\n",
              "6                 Apple Jacks   K        Kelloggs\n",
              "7                     Basic 4   G   General Mills\n",
              "8                   Bran Chex   R  Ralston Purina\n",
              "9                 Bran Flakes   P            Post\n",
              "10               Cap'n'Crunch   Q     Quaker Oats\n",
              "11                   Cheerios   G   General Mills\n",
              "12      Cinnamon Toast Crunch   G   General Mills\n",
              "13                   Clusters   G   General Mills\n",
              "14                Cocoa Puffs   G   General Mills\n",
              "15                  Corn Chex   R  Ralston Purina\n",
              "16                Corn Flakes   K        Kelloggs\n",
              "17                  Corn Pops   K        Kelloggs\n",
              "18              Count Chocula   G   General Mills\n",
              "19         Cracklin' Oat Bran   K        Kelloggs"
            ]
          },
          "metadata": {
            "tags": []
          },
          "execution_count": 6
        }
      ]
    },
    {
      "cell_type": "markdown",
      "metadata": {
        "id": "cl30h29pWp26"
      },
      "source": [
        "## Part 4: Visualization \n",
        "\n",
        "Let's do some more data exploration visually.\n",
        "\n",
        "First, as you did in [Data Exploration 01](https://byui-cse.github.io/cse450-course/module-01/exploration-01.html), import the Altair library the conventional way.](https://altair-viz.github.io/getting_started/starting.html#the-chart-object)."
      ]
    },
    {
      "cell_type": "code",
      "metadata": {
        "id": "6UZKj1yMXTYg"
      },
      "source": [
        "# Import the Altair library the conventional way.\n",
        "import altair as alt"
      ],
      "execution_count": 7,
      "outputs": []
    },
    {
      "cell_type": "markdown",
      "metadata": {
        "id": "AWlh7ipsXaYM"
      },
      "source": [
        "### Sugar Distribution\n",
        "\n",
        "Marketing tells us that their surveys have revealed that sugar content is the number one concern of consumers when choosing cereal.\n",
        "\n",
        "They would like to see the following visualizations:\n",
        "\n",
        "*  A [histogram plot](https://altair-viz.github.io/gallery/simple_histogram.html) of the sugar content in all cereals.\n",
        "\n",
        "* A [scatter plot](https://altair-viz.github.io/gallery/scatter_tooltips.html) showing the distribution of sugar content by manufactuerer.\n",
        "\n",
        "* A [box plot](https://altair-viz.github.io/gallery/boxplot.html) showing the distribution of sugar content by manufacturer."
      ]
    },
    {
      "cell_type": "code",
      "metadata": {
        "id": "-T6xRLvAYJIf",
        "outputId": "2ba81497-8327-4d1e-e2cc-e52771c75162",
        "colab": {
          "base_uri": "https://localhost:8080/",
          "height": 363
        }
      },
      "source": [
        "# Use altair to create the three visualzations requested by the the marketing team\n",
        "\n",
        "# Adjust some of the bin parameter values so we don't start at -2\n",
        "alt.Chart(cereal).mark_bar().encode(\n",
        "    alt.X('sugars', bin=alt.Bin(extent=[0,16], step=1), title='Sugar (grams)'),\n",
        "    alt.Y('count()', title='Cereal Brands')\n",
        ")"
      ],
      "execution_count": 8,
      "outputs": [
        {
          "output_type": "execute_result",
          "data": {
            "text/plain": [
              "alt.Chart(...)"
            ],
            "text/html": [
              "\n",
              "<div id=\"altair-viz-07c67d812bc94121add4aa44ac6a92ae\"></div>\n",
              "<script type=\"text/javascript\">\n",
              "  (function(spec, embedOpt){\n",
              "    let outputDiv = document.currentScript.previousElementSibling;\n",
              "    if (outputDiv.id !== \"altair-viz-07c67d812bc94121add4aa44ac6a92ae\") {\n",
              "      outputDiv = document.getElementById(\"altair-viz-07c67d812bc94121add4aa44ac6a92ae\");\n",
              "    }\n",
              "    const paths = {\n",
              "      \"vega\": \"https://cdn.jsdelivr.net/npm//vega@5?noext\",\n",
              "      \"vega-lib\": \"https://cdn.jsdelivr.net/npm//vega-lib?noext\",\n",
              "      \"vega-lite\": \"https://cdn.jsdelivr.net/npm//vega-lite@4.8.1?noext\",\n",
              "      \"vega-embed\": \"https://cdn.jsdelivr.net/npm//vega-embed@6?noext\",\n",
              "    };\n",
              "\n",
              "    function loadScript(lib) {\n",
              "      return new Promise(function(resolve, reject) {\n",
              "        var s = document.createElement('script');\n",
              "        s.src = paths[lib];\n",
              "        s.async = true;\n",
              "        s.onload = () => resolve(paths[lib]);\n",
              "        s.onerror = () => reject(`Error loading script: ${paths[lib]}`);\n",
              "        document.getElementsByTagName(\"head\")[0].appendChild(s);\n",
              "      });\n",
              "    }\n",
              "\n",
              "    function showError(err) {\n",
              "      outputDiv.innerHTML = `<div class=\"error\" style=\"color:red;\">${err}</div>`;\n",
              "      throw err;\n",
              "    }\n",
              "\n",
              "    function displayChart(vegaEmbed) {\n",
              "      vegaEmbed(outputDiv, spec, embedOpt)\n",
              "        .catch(err => showError(`Javascript Error: ${err.message}<br>This usually means there's a typo in your chart specification. See the javascript console for the full traceback.`));\n",
              "    }\n",
              "\n",
              "    if(typeof define === \"function\" && define.amd) {\n",
              "      requirejs.config({paths});\n",
              "      require([\"vega-embed\"], displayChart, err => showError(`Error loading script: ${err.message}`));\n",
              "    } else if (typeof vegaEmbed === \"function\") {\n",
              "      displayChart(vegaEmbed);\n",
              "    } else {\n",
              "      loadScript(\"vega\")\n",
              "        .then(() => loadScript(\"vega-lite\"))\n",
              "        .then(() => loadScript(\"vega-embed\"))\n",
              "        .catch(showError)\n",
              "        .then(() => displayChart(vegaEmbed));\n",
              "    }\n",
              "  })({\"config\": {\"view\": {\"continuousWidth\": 400, \"continuousHeight\": 300}}, \"data\": {\"name\": \"data-e3fa4752c4cbe075d20fd5dc066bc5a9\"}, \"mark\": \"bar\", \"encoding\": {\"x\": {\"type\": \"quantitative\", \"bin\": {\"extent\": [0, 16], \"step\": 1}, \"field\": \"sugars\", \"title\": \"Sugar (grams)\"}, \"y\": {\"type\": \"quantitative\", \"aggregate\": \"count\", \"title\": \"Cereal Brands\"}}, \"$schema\": \"https://vega.github.io/schema/vega-lite/v4.8.1.json\", \"datasets\": {\"data-e3fa4752c4cbe075d20fd5dc066bc5a9\": [{\"name\": \"100% Bran\", \"mfr\": \"N\", \"type\": \"C\", \"calories\": 70, \"protein\": 4, \"fat\": 1, \"sodium\": 130, \"fiber\": 10.0, \"carbo\": 5.0, \"sugars\": 6, \"potass\": 280, \"vitamins\": 25, \"shelf\": 3, \"weight\": 1.0, \"cups\": 0.33, \"rating\": 68.402973, \"mfr_name\": \"Nabisco\"}, {\"name\": \"100% Natural Bran\", \"mfr\": \"Q\", \"type\": \"C\", \"calories\": 120, \"protein\": 3, \"fat\": 5, \"sodium\": 15, \"fiber\": 2.0, \"carbo\": 8.0, \"sugars\": 8, \"potass\": 135, \"vitamins\": 0, \"shelf\": 3, \"weight\": 1.0, \"cups\": 1.0, \"rating\": 33.983678999999995, \"mfr_name\": \"Quaker Oats\"}, {\"name\": \"All-Bran\", \"mfr\": \"K\", \"type\": \"C\", \"calories\": 70, \"protein\": 4, \"fat\": 1, \"sodium\": 260, \"fiber\": 9.0, \"carbo\": 7.0, \"sugars\": 5, \"potass\": 320, \"vitamins\": 25, \"shelf\": 3, \"weight\": 1.0, \"cups\": 0.33, \"rating\": 59.425505, \"mfr_name\": \"Kelloggs\"}, {\"name\": \"All-Bran with Extra Fiber\", \"mfr\": \"K\", \"type\": \"C\", \"calories\": 50, \"protein\": 4, \"fat\": 0, \"sodium\": 140, \"fiber\": 14.0, \"carbo\": 8.0, \"sugars\": 0, \"potass\": 330, \"vitamins\": 25, \"shelf\": 3, \"weight\": 1.0, \"cups\": 0.5, \"rating\": 93.704912, \"mfr_name\": \"Kelloggs\"}, {\"name\": \"Almond Delight\", \"mfr\": \"R\", \"type\": \"C\", \"calories\": 110, \"protein\": 2, \"fat\": 2, \"sodium\": 200, \"fiber\": 1.0, \"carbo\": 14.0, \"sugars\": 8, \"potass\": -1, \"vitamins\": 25, \"shelf\": 3, \"weight\": 1.0, \"cups\": 0.75, \"rating\": 34.384843, \"mfr_name\": \"Ralston Purina\"}, {\"name\": \"Apple Cinnamon Cheerios\", \"mfr\": \"G\", \"type\": \"C\", \"calories\": 110, \"protein\": 2, \"fat\": 2, \"sodium\": 180, \"fiber\": 1.5, \"carbo\": 10.5, \"sugars\": 10, \"potass\": 70, \"vitamins\": 25, \"shelf\": 1, \"weight\": 1.0, \"cups\": 0.75, \"rating\": 29.509541, \"mfr_name\": \"General Mills\"}, {\"name\": \"Apple Jacks\", \"mfr\": \"K\", \"type\": \"C\", \"calories\": 110, \"protein\": 2, \"fat\": 0, \"sodium\": 125, \"fiber\": 1.0, \"carbo\": 11.0, \"sugars\": 14, \"potass\": 30, \"vitamins\": 25, \"shelf\": 2, \"weight\": 1.0, \"cups\": 1.0, \"rating\": 33.174094000000004, \"mfr_name\": \"Kelloggs\"}, {\"name\": \"Basic 4\", \"mfr\": \"G\", \"type\": \"C\", \"calories\": 130, \"protein\": 3, \"fat\": 2, \"sodium\": 210, \"fiber\": 2.0, \"carbo\": 18.0, \"sugars\": 8, \"potass\": 100, \"vitamins\": 25, \"shelf\": 3, \"weight\": 1.33, \"cups\": 0.75, \"rating\": 37.038562, \"mfr_name\": \"General Mills\"}, {\"name\": \"Bran Chex\", \"mfr\": \"R\", \"type\": \"C\", \"calories\": 90, \"protein\": 2, \"fat\": 1, \"sodium\": 200, \"fiber\": 4.0, \"carbo\": 15.0, \"sugars\": 6, \"potass\": 125, \"vitamins\": 25, \"shelf\": 1, \"weight\": 1.0, \"cups\": 0.67, \"rating\": 49.120253000000005, \"mfr_name\": \"Ralston Purina\"}, {\"name\": \"Bran Flakes\", \"mfr\": \"P\", \"type\": \"C\", \"calories\": 90, \"protein\": 3, \"fat\": 0, \"sodium\": 210, \"fiber\": 5.0, \"carbo\": 13.0, \"sugars\": 5, \"potass\": 190, \"vitamins\": 25, \"shelf\": 3, \"weight\": 1.0, \"cups\": 0.67, \"rating\": 53.313813, \"mfr_name\": \"Post\"}, {\"name\": \"Cap'n'Crunch\", \"mfr\": \"Q\", \"type\": \"C\", \"calories\": 120, \"protein\": 1, \"fat\": 2, \"sodium\": 220, \"fiber\": 0.0, \"carbo\": 12.0, \"sugars\": 12, \"potass\": 35, \"vitamins\": 25, \"shelf\": 2, \"weight\": 1.0, \"cups\": 0.75, \"rating\": 18.042851000000002, \"mfr_name\": \"Quaker Oats\"}, {\"name\": \"Cheerios\", \"mfr\": \"G\", \"type\": \"C\", \"calories\": 110, \"protein\": 6, \"fat\": 2, \"sodium\": 290, \"fiber\": 2.0, \"carbo\": 17.0, \"sugars\": 1, \"potass\": 105, \"vitamins\": 25, \"shelf\": 1, \"weight\": 1.0, \"cups\": 1.25, \"rating\": 50.764998999999996, \"mfr_name\": \"General Mills\"}, {\"name\": \"Cinnamon Toast Crunch\", \"mfr\": \"G\", \"type\": \"C\", \"calories\": 120, \"protein\": 1, \"fat\": 3, \"sodium\": 210, \"fiber\": 0.0, \"carbo\": 13.0, \"sugars\": 9, \"potass\": 45, \"vitamins\": 25, \"shelf\": 2, \"weight\": 1.0, \"cups\": 0.75, \"rating\": 19.823573, \"mfr_name\": \"General Mills\"}, {\"name\": \"Clusters\", \"mfr\": \"G\", \"type\": \"C\", \"calories\": 110, \"protein\": 3, \"fat\": 2, \"sodium\": 140, \"fiber\": 2.0, \"carbo\": 13.0, \"sugars\": 7, \"potass\": 105, \"vitamins\": 25, \"shelf\": 3, \"weight\": 1.0, \"cups\": 0.5, \"rating\": 40.400208, \"mfr_name\": \"General Mills\"}, {\"name\": \"Cocoa Puffs\", \"mfr\": \"G\", \"type\": \"C\", \"calories\": 110, \"protein\": 1, \"fat\": 1, \"sodium\": 180, \"fiber\": 0.0, \"carbo\": 12.0, \"sugars\": 13, \"potass\": 55, \"vitamins\": 25, \"shelf\": 2, \"weight\": 1.0, \"cups\": 1.0, \"rating\": 22.736446, \"mfr_name\": \"General Mills\"}, {\"name\": \"Corn Chex\", \"mfr\": \"R\", \"type\": \"C\", \"calories\": 110, \"protein\": 2, \"fat\": 0, \"sodium\": 280, \"fiber\": 0.0, \"carbo\": 22.0, \"sugars\": 3, \"potass\": 25, \"vitamins\": 25, \"shelf\": 1, \"weight\": 1.0, \"cups\": 1.0, \"rating\": 41.445019, \"mfr_name\": \"Ralston Purina\"}, {\"name\": \"Corn Flakes\", \"mfr\": \"K\", \"type\": \"C\", \"calories\": 100, \"protein\": 2, \"fat\": 0, \"sodium\": 290, \"fiber\": 1.0, \"carbo\": 21.0, \"sugars\": 2, \"potass\": 35, \"vitamins\": 25, \"shelf\": 1, \"weight\": 1.0, \"cups\": 1.0, \"rating\": 45.863324, \"mfr_name\": \"Kelloggs\"}, {\"name\": \"Corn Pops\", \"mfr\": \"K\", \"type\": \"C\", \"calories\": 110, \"protein\": 1, \"fat\": 0, \"sodium\": 90, \"fiber\": 1.0, \"carbo\": 13.0, \"sugars\": 12, \"potass\": 20, \"vitamins\": 25, \"shelf\": 2, \"weight\": 1.0, \"cups\": 1.0, \"rating\": 35.782790999999996, \"mfr_name\": \"Kelloggs\"}, {\"name\": \"Count Chocula\", \"mfr\": \"G\", \"type\": \"C\", \"calories\": 110, \"protein\": 1, \"fat\": 1, \"sodium\": 180, \"fiber\": 0.0, \"carbo\": 12.0, \"sugars\": 13, \"potass\": 65, \"vitamins\": 25, \"shelf\": 2, \"weight\": 1.0, \"cups\": 1.0, \"rating\": 22.396513, \"mfr_name\": \"General Mills\"}, {\"name\": \"Cracklin' Oat Bran\", \"mfr\": \"K\", \"type\": \"C\", \"calories\": 110, \"protein\": 3, \"fat\": 3, \"sodium\": 140, \"fiber\": 4.0, \"carbo\": 10.0, \"sugars\": 7, \"potass\": 160, \"vitamins\": 25, \"shelf\": 3, \"weight\": 1.0, \"cups\": 0.5, \"rating\": 40.448772, \"mfr_name\": \"Kelloggs\"}, {\"name\": \"Cream of Wheat (Quick)\", \"mfr\": \"N\", \"type\": \"H\", \"calories\": 100, \"protein\": 3, \"fat\": 0, \"sodium\": 80, \"fiber\": 1.0, \"carbo\": 21.0, \"sugars\": 0, \"potass\": -1, \"vitamins\": 0, \"shelf\": 2, \"weight\": 1.0, \"cups\": 1.0, \"rating\": 64.533816, \"mfr_name\": \"Nabisco\"}, {\"name\": \"Crispix\", \"mfr\": \"K\", \"type\": \"C\", \"calories\": 110, \"protein\": 2, \"fat\": 0, \"sodium\": 220, \"fiber\": 1.0, \"carbo\": 21.0, \"sugars\": 3, \"potass\": 30, \"vitamins\": 25, \"shelf\": 3, \"weight\": 1.0, \"cups\": 1.0, \"rating\": 46.895644, \"mfr_name\": \"Kelloggs\"}, {\"name\": \"Crispy Wheat & Raisins\", \"mfr\": \"G\", \"type\": \"C\", \"calories\": 100, \"protein\": 2, \"fat\": 1, \"sodium\": 140, \"fiber\": 2.0, \"carbo\": 11.0, \"sugars\": 10, \"potass\": 120, \"vitamins\": 25, \"shelf\": 3, \"weight\": 1.0, \"cups\": 0.75, \"rating\": 36.176196000000004, \"mfr_name\": \"General Mills\"}, {\"name\": \"Double Chex\", \"mfr\": \"R\", \"type\": \"C\", \"calories\": 100, \"protein\": 2, \"fat\": 0, \"sodium\": 190, \"fiber\": 1.0, \"carbo\": 18.0, \"sugars\": 5, \"potass\": 80, \"vitamins\": 25, \"shelf\": 3, \"weight\": 1.0, \"cups\": 0.75, \"rating\": 44.330856, \"mfr_name\": \"Ralston Purina\"}, {\"name\": \"Froot Loops\", \"mfr\": \"K\", \"type\": \"C\", \"calories\": 110, \"protein\": 2, \"fat\": 1, \"sodium\": 125, \"fiber\": 1.0, \"carbo\": 11.0, \"sugars\": 13, \"potass\": 30, \"vitamins\": 25, \"shelf\": 2, \"weight\": 1.0, \"cups\": 1.0, \"rating\": 32.207582, \"mfr_name\": \"Kelloggs\"}, {\"name\": \"Frosted Flakes\", \"mfr\": \"K\", \"type\": \"C\", \"calories\": 110, \"protein\": 1, \"fat\": 0, \"sodium\": 200, \"fiber\": 1.0, \"carbo\": 14.0, \"sugars\": 11, \"potass\": 25, \"vitamins\": 25, \"shelf\": 1, \"weight\": 1.0, \"cups\": 0.75, \"rating\": 31.435972999999997, \"mfr_name\": \"Kelloggs\"}, {\"name\": \"Frosted Mini-Wheats\", \"mfr\": \"K\", \"type\": \"C\", \"calories\": 100, \"protein\": 3, \"fat\": 0, \"sodium\": 0, \"fiber\": 3.0, \"carbo\": 14.0, \"sugars\": 7, \"potass\": 100, \"vitamins\": 25, \"shelf\": 2, \"weight\": 1.0, \"cups\": 0.8, \"rating\": 58.345141000000005, \"mfr_name\": \"Kelloggs\"}, {\"name\": \"Fruit & Fibre Dates; Walnuts; and Oats\", \"mfr\": \"P\", \"type\": \"C\", \"calories\": 120, \"protein\": 3, \"fat\": 2, \"sodium\": 160, \"fiber\": 5.0, \"carbo\": 12.0, \"sugars\": 10, \"potass\": 200, \"vitamins\": 25, \"shelf\": 3, \"weight\": 1.25, \"cups\": 0.67, \"rating\": 40.917047, \"mfr_name\": \"Post\"}, {\"name\": \"Fruitful Bran\", \"mfr\": \"K\", \"type\": \"C\", \"calories\": 120, \"protein\": 3, \"fat\": 0, \"sodium\": 240, \"fiber\": 5.0, \"carbo\": 14.0, \"sugars\": 12, \"potass\": 190, \"vitamins\": 25, \"shelf\": 3, \"weight\": 1.33, \"cups\": 0.67, \"rating\": 41.015492, \"mfr_name\": \"Kelloggs\"}, {\"name\": \"Fruity Pebbles\", \"mfr\": \"P\", \"type\": \"C\", \"calories\": 110, \"protein\": 1, \"fat\": 1, \"sodium\": 135, \"fiber\": 0.0, \"carbo\": 13.0, \"sugars\": 12, \"potass\": 25, \"vitamins\": 25, \"shelf\": 2, \"weight\": 1.0, \"cups\": 0.75, \"rating\": 28.025765000000003, \"mfr_name\": \"Post\"}, {\"name\": \"Golden Crisp\", \"mfr\": \"P\", \"type\": \"C\", \"calories\": 100, \"protein\": 2, \"fat\": 0, \"sodium\": 45, \"fiber\": 0.0, \"carbo\": 11.0, \"sugars\": 15, \"potass\": 40, \"vitamins\": 25, \"shelf\": 1, \"weight\": 1.0, \"cups\": 0.88, \"rating\": 35.252444, \"mfr_name\": \"Post\"}, {\"name\": \"Golden Grahams\", \"mfr\": \"G\", \"type\": \"C\", \"calories\": 110, \"protein\": 1, \"fat\": 1, \"sodium\": 280, \"fiber\": 0.0, \"carbo\": 15.0, \"sugars\": 9, \"potass\": 45, \"vitamins\": 25, \"shelf\": 2, \"weight\": 1.0, \"cups\": 0.75, \"rating\": 23.804043, \"mfr_name\": \"General Mills\"}, {\"name\": \"Grape Nuts Flakes\", \"mfr\": \"P\", \"type\": \"C\", \"calories\": 100, \"protein\": 3, \"fat\": 1, \"sodium\": 140, \"fiber\": 3.0, \"carbo\": 15.0, \"sugars\": 5, \"potass\": 85, \"vitamins\": 25, \"shelf\": 3, \"weight\": 1.0, \"cups\": 0.88, \"rating\": 52.076896999999995, \"mfr_name\": \"Post\"}, {\"name\": \"Grape-Nuts\", \"mfr\": \"P\", \"type\": \"C\", \"calories\": 110, \"protein\": 3, \"fat\": 0, \"sodium\": 170, \"fiber\": 3.0, \"carbo\": 17.0, \"sugars\": 3, \"potass\": 90, \"vitamins\": 25, \"shelf\": 3, \"weight\": 1.0, \"cups\": 0.25, \"rating\": 53.37100699999999, \"mfr_name\": \"Post\"}, {\"name\": \"Great Grains Pecan\", \"mfr\": \"P\", \"type\": \"C\", \"calories\": 120, \"protein\": 3, \"fat\": 3, \"sodium\": 75, \"fiber\": 3.0, \"carbo\": 13.0, \"sugars\": 4, \"potass\": 100, \"vitamins\": 25, \"shelf\": 3, \"weight\": 1.0, \"cups\": 0.33, \"rating\": 45.811716, \"mfr_name\": \"Post\"}, {\"name\": \"Honey Graham Ohs\", \"mfr\": \"Q\", \"type\": \"C\", \"calories\": 120, \"protein\": 1, \"fat\": 2, \"sodium\": 220, \"fiber\": 1.0, \"carbo\": 12.0, \"sugars\": 11, \"potass\": 45, \"vitamins\": 25, \"shelf\": 2, \"weight\": 1.0, \"cups\": 1.0, \"rating\": 21.871292, \"mfr_name\": \"Quaker Oats\"}, {\"name\": \"Honey Nut Cheerios\", \"mfr\": \"G\", \"type\": \"C\", \"calories\": 110, \"protein\": 3, \"fat\": 1, \"sodium\": 250, \"fiber\": 1.5, \"carbo\": 11.5, \"sugars\": 10, \"potass\": 90, \"vitamins\": 25, \"shelf\": 1, \"weight\": 1.0, \"cups\": 0.75, \"rating\": 31.072217, \"mfr_name\": \"General Mills\"}, {\"name\": \"Honey-comb\", \"mfr\": \"P\", \"type\": \"C\", \"calories\": 110, \"protein\": 1, \"fat\": 0, \"sodium\": 180, \"fiber\": 0.0, \"carbo\": 14.0, \"sugars\": 11, \"potass\": 35, \"vitamins\": 25, \"shelf\": 1, \"weight\": 1.0, \"cups\": 1.33, \"rating\": 28.742414, \"mfr_name\": \"Post\"}, {\"name\": \"Just Right Crunchy  Nuggets\", \"mfr\": \"K\", \"type\": \"C\", \"calories\": 110, \"protein\": 2, \"fat\": 1, \"sodium\": 170, \"fiber\": 1.0, \"carbo\": 17.0, \"sugars\": 6, \"potass\": 60, \"vitamins\": 100, \"shelf\": 3, \"weight\": 1.0, \"cups\": 1.0, \"rating\": 36.523683, \"mfr_name\": \"Kelloggs\"}, {\"name\": \"Just Right Fruit & Nut\", \"mfr\": \"K\", \"type\": \"C\", \"calories\": 140, \"protein\": 3, \"fat\": 1, \"sodium\": 170, \"fiber\": 2.0, \"carbo\": 20.0, \"sugars\": 9, \"potass\": 95, \"vitamins\": 100, \"shelf\": 3, \"weight\": 1.3, \"cups\": 0.75, \"rating\": 36.471512, \"mfr_name\": \"Kelloggs\"}, {\"name\": \"Kix\", \"mfr\": \"G\", \"type\": \"C\", \"calories\": 110, \"protein\": 2, \"fat\": 1, \"sodium\": 260, \"fiber\": 0.0, \"carbo\": 21.0, \"sugars\": 3, \"potass\": 40, \"vitamins\": 25, \"shelf\": 2, \"weight\": 1.0, \"cups\": 1.5, \"rating\": 39.241114, \"mfr_name\": \"General Mills\"}, {\"name\": \"Life\", \"mfr\": \"Q\", \"type\": \"C\", \"calories\": 100, \"protein\": 4, \"fat\": 2, \"sodium\": 150, \"fiber\": 2.0, \"carbo\": 12.0, \"sugars\": 6, \"potass\": 95, \"vitamins\": 25, \"shelf\": 2, \"weight\": 1.0, \"cups\": 0.67, \"rating\": 45.328074, \"mfr_name\": \"Quaker Oats\"}, {\"name\": \"Lucky Charms\", \"mfr\": \"G\", \"type\": \"C\", \"calories\": 110, \"protein\": 2, \"fat\": 1, \"sodium\": 180, \"fiber\": 0.0, \"carbo\": 12.0, \"sugars\": 12, \"potass\": 55, \"vitamins\": 25, \"shelf\": 2, \"weight\": 1.0, \"cups\": 1.0, \"rating\": 26.734515000000002, \"mfr_name\": \"General Mills\"}, {\"name\": \"Maypo\", \"mfr\": \"A\", \"type\": \"H\", \"calories\": 100, \"protein\": 4, \"fat\": 1, \"sodium\": 0, \"fiber\": 0.0, \"carbo\": 16.0, \"sugars\": 3, \"potass\": 95, \"vitamins\": 25, \"shelf\": 2, \"weight\": 1.0, \"cups\": 1.0, \"rating\": 54.850917, \"mfr_name\": \"American Home Food Products\"}, {\"name\": \"Muesli Raisins; Dates; & Almonds\", \"mfr\": \"R\", \"type\": \"C\", \"calories\": 150, \"protein\": 4, \"fat\": 3, \"sodium\": 95, \"fiber\": 3.0, \"carbo\": 16.0, \"sugars\": 11, \"potass\": 170, \"vitamins\": 25, \"shelf\": 3, \"weight\": 1.0, \"cups\": 1.0, \"rating\": 37.136863, \"mfr_name\": \"Ralston Purina\"}, {\"name\": \"Muesli Raisins; Peaches; & Pecans\", \"mfr\": \"R\", \"type\": \"C\", \"calories\": 150, \"protein\": 4, \"fat\": 3, \"sodium\": 150, \"fiber\": 3.0, \"carbo\": 16.0, \"sugars\": 11, \"potass\": 170, \"vitamins\": 25, \"shelf\": 3, \"weight\": 1.0, \"cups\": 1.0, \"rating\": 34.139765000000004, \"mfr_name\": \"Ralston Purina\"}, {\"name\": \"Mueslix Crispy Blend\", \"mfr\": \"K\", \"type\": \"C\", \"calories\": 160, \"protein\": 3, \"fat\": 2, \"sodium\": 150, \"fiber\": 3.0, \"carbo\": 17.0, \"sugars\": 13, \"potass\": 160, \"vitamins\": 25, \"shelf\": 3, \"weight\": 1.5, \"cups\": 0.67, \"rating\": 30.313351, \"mfr_name\": \"Kelloggs\"}, {\"name\": \"Multi-Grain Cheerios\", \"mfr\": \"G\", \"type\": \"C\", \"calories\": 100, \"protein\": 2, \"fat\": 1, \"sodium\": 220, \"fiber\": 2.0, \"carbo\": 15.0, \"sugars\": 6, \"potass\": 90, \"vitamins\": 25, \"shelf\": 1, \"weight\": 1.0, \"cups\": 1.0, \"rating\": 40.105965000000005, \"mfr_name\": \"General Mills\"}, {\"name\": \"Nut&Honey Crunch\", \"mfr\": \"K\", \"type\": \"C\", \"calories\": 120, \"protein\": 2, \"fat\": 1, \"sodium\": 190, \"fiber\": 0.0, \"carbo\": 15.0, \"sugars\": 9, \"potass\": 40, \"vitamins\": 25, \"shelf\": 2, \"weight\": 1.0, \"cups\": 0.67, \"rating\": 29.924284999999998, \"mfr_name\": \"Kelloggs\"}, {\"name\": \"Nutri-Grain Almond-Raisin\", \"mfr\": \"K\", \"type\": \"C\", \"calories\": 140, \"protein\": 3, \"fat\": 2, \"sodium\": 220, \"fiber\": 3.0, \"carbo\": 21.0, \"sugars\": 7, \"potass\": 130, \"vitamins\": 25, \"shelf\": 3, \"weight\": 1.33, \"cups\": 0.67, \"rating\": 40.69232, \"mfr_name\": \"Kelloggs\"}, {\"name\": \"Nutri-grain Wheat\", \"mfr\": \"K\", \"type\": \"C\", \"calories\": 90, \"protein\": 3, \"fat\": 0, \"sodium\": 170, \"fiber\": 3.0, \"carbo\": 18.0, \"sugars\": 2, \"potass\": 90, \"vitamins\": 25, \"shelf\": 3, \"weight\": 1.0, \"cups\": 1.0, \"rating\": 59.642837, \"mfr_name\": \"Kelloggs\"}, {\"name\": \"Oatmeal Raisin Crisp\", \"mfr\": \"G\", \"type\": \"C\", \"calories\": 130, \"protein\": 3, \"fat\": 2, \"sodium\": 170, \"fiber\": 1.5, \"carbo\": 13.5, \"sugars\": 10, \"potass\": 120, \"vitamins\": 25, \"shelf\": 3, \"weight\": 1.25, \"cups\": 0.5, \"rating\": 30.450843, \"mfr_name\": \"General Mills\"}, {\"name\": \"Post Nat. Raisin Bran\", \"mfr\": \"P\", \"type\": \"C\", \"calories\": 120, \"protein\": 3, \"fat\": 1, \"sodium\": 200, \"fiber\": 6.0, \"carbo\": 11.0, \"sugars\": 14, \"potass\": 260, \"vitamins\": 25, \"shelf\": 3, \"weight\": 1.33, \"cups\": 0.67, \"rating\": 37.840594, \"mfr_name\": \"Post\"}, {\"name\": \"Product 19\", \"mfr\": \"K\", \"type\": \"C\", \"calories\": 100, \"protein\": 3, \"fat\": 0, \"sodium\": 320, \"fiber\": 1.0, \"carbo\": 20.0, \"sugars\": 3, \"potass\": 45, \"vitamins\": 100, \"shelf\": 3, \"weight\": 1.0, \"cups\": 1.0, \"rating\": 41.50354, \"mfr_name\": \"Kelloggs\"}, {\"name\": \"Puffed Rice\", \"mfr\": \"Q\", \"type\": \"C\", \"calories\": 50, \"protein\": 1, \"fat\": 0, \"sodium\": 0, \"fiber\": 0.0, \"carbo\": 13.0, \"sugars\": 0, \"potass\": 15, \"vitamins\": 0, \"shelf\": 3, \"weight\": 0.5, \"cups\": 1.0, \"rating\": 60.756112, \"mfr_name\": \"Quaker Oats\"}, {\"name\": \"Puffed Wheat\", \"mfr\": \"Q\", \"type\": \"C\", \"calories\": 50, \"protein\": 2, \"fat\": 0, \"sodium\": 0, \"fiber\": 1.0, \"carbo\": 10.0, \"sugars\": 0, \"potass\": 50, \"vitamins\": 0, \"shelf\": 3, \"weight\": 0.5, \"cups\": 1.0, \"rating\": 63.005644999999994, \"mfr_name\": \"Quaker Oats\"}, {\"name\": \"Quaker Oat Squares\", \"mfr\": \"Q\", \"type\": \"C\", \"calories\": 100, \"protein\": 4, \"fat\": 1, \"sodium\": 135, \"fiber\": 2.0, \"carbo\": 14.0, \"sugars\": 6, \"potass\": 110, \"vitamins\": 25, \"shelf\": 3, \"weight\": 1.0, \"cups\": 0.5, \"rating\": 49.511874, \"mfr_name\": \"Quaker Oats\"}, {\"name\": \"Quaker Oatmeal\", \"mfr\": \"Q\", \"type\": \"H\", \"calories\": 100, \"protein\": 5, \"fat\": 2, \"sodium\": 0, \"fiber\": 2.7, \"carbo\": -1.0, \"sugars\": -1, \"potass\": 110, \"vitamins\": 0, \"shelf\": 1, \"weight\": 1.0, \"cups\": 0.67, \"rating\": 50.828392, \"mfr_name\": \"Quaker Oats\"}, {\"name\": \"Raisin Bran\", \"mfr\": \"K\", \"type\": \"C\", \"calories\": 120, \"protein\": 3, \"fat\": 1, \"sodium\": 210, \"fiber\": 5.0, \"carbo\": 14.0, \"sugars\": 12, \"potass\": 240, \"vitamins\": 25, \"shelf\": 2, \"weight\": 1.33, \"cups\": 0.75, \"rating\": 39.259197, \"mfr_name\": \"Kelloggs\"}, {\"name\": \"Raisin Nut Bran\", \"mfr\": \"G\", \"type\": \"C\", \"calories\": 100, \"protein\": 3, \"fat\": 2, \"sodium\": 140, \"fiber\": 2.5, \"carbo\": 10.5, \"sugars\": 8, \"potass\": 140, \"vitamins\": 25, \"shelf\": 3, \"weight\": 1.0, \"cups\": 0.5, \"rating\": 39.7034, \"mfr_name\": \"General Mills\"}, {\"name\": \"Raisin Squares\", \"mfr\": \"K\", \"type\": \"C\", \"calories\": 90, \"protein\": 2, \"fat\": 0, \"sodium\": 0, \"fiber\": 2.0, \"carbo\": 15.0, \"sugars\": 6, \"potass\": 110, \"vitamins\": 25, \"shelf\": 3, \"weight\": 1.0, \"cups\": 0.5, \"rating\": 55.333142, \"mfr_name\": \"Kelloggs\"}, {\"name\": \"Rice Chex\", \"mfr\": \"R\", \"type\": \"C\", \"calories\": 110, \"protein\": 1, \"fat\": 0, \"sodium\": 240, \"fiber\": 0.0, \"carbo\": 23.0, \"sugars\": 2, \"potass\": 30, \"vitamins\": 25, \"shelf\": 1, \"weight\": 1.0, \"cups\": 1.13, \"rating\": 41.998933, \"mfr_name\": \"Ralston Purina\"}, {\"name\": \"Rice Krispies\", \"mfr\": \"K\", \"type\": \"C\", \"calories\": 110, \"protein\": 2, \"fat\": 0, \"sodium\": 290, \"fiber\": 0.0, \"carbo\": 22.0, \"sugars\": 3, \"potass\": 35, \"vitamins\": 25, \"shelf\": 1, \"weight\": 1.0, \"cups\": 1.0, \"rating\": 40.560159000000006, \"mfr_name\": \"Kelloggs\"}, {\"name\": \"Shredded Wheat\", \"mfr\": \"N\", \"type\": \"C\", \"calories\": 80, \"protein\": 2, \"fat\": 0, \"sodium\": 0, \"fiber\": 3.0, \"carbo\": 16.0, \"sugars\": 0, \"potass\": 95, \"vitamins\": 0, \"shelf\": 1, \"weight\": 0.83, \"cups\": 1.0, \"rating\": 68.235885, \"mfr_name\": \"Nabisco\"}, {\"name\": \"Shredded Wheat 'n'Bran\", \"mfr\": \"N\", \"type\": \"C\", \"calories\": 90, \"protein\": 3, \"fat\": 0, \"sodium\": 0, \"fiber\": 4.0, \"carbo\": 19.0, \"sugars\": 0, \"potass\": 140, \"vitamins\": 0, \"shelf\": 1, \"weight\": 1.0, \"cups\": 0.67, \"rating\": 74.472949, \"mfr_name\": \"Nabisco\"}, {\"name\": \"Shredded Wheat spoon size\", \"mfr\": \"N\", \"type\": \"C\", \"calories\": 90, \"protein\": 3, \"fat\": 0, \"sodium\": 0, \"fiber\": 3.0, \"carbo\": 20.0, \"sugars\": 0, \"potass\": 120, \"vitamins\": 0, \"shelf\": 1, \"weight\": 1.0, \"cups\": 0.67, \"rating\": 72.801787, \"mfr_name\": \"Nabisco\"}, {\"name\": \"Smacks\", \"mfr\": \"K\", \"type\": \"C\", \"calories\": 110, \"protein\": 2, \"fat\": 1, \"sodium\": 70, \"fiber\": 1.0, \"carbo\": 9.0, \"sugars\": 15, \"potass\": 40, \"vitamins\": 25, \"shelf\": 2, \"weight\": 1.0, \"cups\": 0.75, \"rating\": 31.230054, \"mfr_name\": \"Kelloggs\"}, {\"name\": \"Special K\", \"mfr\": \"K\", \"type\": \"C\", \"calories\": 110, \"protein\": 6, \"fat\": 0, \"sodium\": 230, \"fiber\": 1.0, \"carbo\": 16.0, \"sugars\": 3, \"potass\": 55, \"vitamins\": 25, \"shelf\": 1, \"weight\": 1.0, \"cups\": 1.0, \"rating\": 53.131324, \"mfr_name\": \"Kelloggs\"}, {\"name\": \"Strawberry Fruit Wheats\", \"mfr\": \"N\", \"type\": \"C\", \"calories\": 90, \"protein\": 2, \"fat\": 0, \"sodium\": 15, \"fiber\": 3.0, \"carbo\": 15.0, \"sugars\": 5, \"potass\": 90, \"vitamins\": 25, \"shelf\": 2, \"weight\": 1.0, \"cups\": 1.0, \"rating\": 59.36399300000001, \"mfr_name\": \"Nabisco\"}, {\"name\": \"Total Corn Flakes\", \"mfr\": \"G\", \"type\": \"C\", \"calories\": 110, \"protein\": 2, \"fat\": 1, \"sodium\": 200, \"fiber\": 0.0, \"carbo\": 21.0, \"sugars\": 3, \"potass\": 35, \"vitamins\": 100, \"shelf\": 3, \"weight\": 1.0, \"cups\": 1.0, \"rating\": 38.839746000000005, \"mfr_name\": \"General Mills\"}, {\"name\": \"Total Raisin Bran\", \"mfr\": \"G\", \"type\": \"C\", \"calories\": 140, \"protein\": 3, \"fat\": 1, \"sodium\": 190, \"fiber\": 4.0, \"carbo\": 15.0, \"sugars\": 14, \"potass\": 230, \"vitamins\": 100, \"shelf\": 3, \"weight\": 1.5, \"cups\": 1.0, \"rating\": 28.592785, \"mfr_name\": \"General Mills\"}, {\"name\": \"Total Whole Grain\", \"mfr\": \"G\", \"type\": \"C\", \"calories\": 100, \"protein\": 3, \"fat\": 1, \"sodium\": 200, \"fiber\": 3.0, \"carbo\": 16.0, \"sugars\": 3, \"potass\": 110, \"vitamins\": 100, \"shelf\": 3, \"weight\": 1.0, \"cups\": 1.0, \"rating\": 46.658844, \"mfr_name\": \"General Mills\"}, {\"name\": \"Triples\", \"mfr\": \"G\", \"type\": \"C\", \"calories\": 110, \"protein\": 2, \"fat\": 1, \"sodium\": 250, \"fiber\": 0.0, \"carbo\": 21.0, \"sugars\": 3, \"potass\": 60, \"vitamins\": 25, \"shelf\": 3, \"weight\": 1.0, \"cups\": 0.75, \"rating\": 39.106173999999996, \"mfr_name\": \"General Mills\"}, {\"name\": \"Trix\", \"mfr\": \"G\", \"type\": \"C\", \"calories\": 110, \"protein\": 1, \"fat\": 1, \"sodium\": 140, \"fiber\": 0.0, \"carbo\": 13.0, \"sugars\": 12, \"potass\": 25, \"vitamins\": 25, \"shelf\": 2, \"weight\": 1.0, \"cups\": 1.0, \"rating\": 27.753301, \"mfr_name\": \"General Mills\"}, {\"name\": \"Wheat Chex\", \"mfr\": \"R\", \"type\": \"C\", \"calories\": 100, \"protein\": 3, \"fat\": 1, \"sodium\": 230, \"fiber\": 3.0, \"carbo\": 17.0, \"sugars\": 3, \"potass\": 115, \"vitamins\": 25, \"shelf\": 1, \"weight\": 1.0, \"cups\": 0.67, \"rating\": 49.787445, \"mfr_name\": \"Ralston Purina\"}, {\"name\": \"Wheaties\", \"mfr\": \"G\", \"type\": \"C\", \"calories\": 100, \"protein\": 3, \"fat\": 1, \"sodium\": 200, \"fiber\": 3.0, \"carbo\": 17.0, \"sugars\": 3, \"potass\": 110, \"vitamins\": 25, \"shelf\": 1, \"weight\": 1.0, \"cups\": 1.0, \"rating\": 51.592193, \"mfr_name\": \"General Mills\"}, {\"name\": \"Wheaties Honey Gold\", \"mfr\": \"G\", \"type\": \"C\", \"calories\": 110, \"protein\": 2, \"fat\": 1, \"sodium\": 200, \"fiber\": 1.0, \"carbo\": 16.0, \"sugars\": 8, \"potass\": 60, \"vitamins\": 25, \"shelf\": 1, \"weight\": 1.0, \"cups\": 0.75, \"rating\": 36.187559, \"mfr_name\": \"General Mills\"}]}}, {\"mode\": \"vega-lite\"});\n",
              "</script>"
            ]
          },
          "metadata": {
            "tags": []
          },
          "execution_count": 8
        }
      ]
    },
    {
      "cell_type": "code",
      "metadata": {
        "id": "1Oyp914IJw5w",
        "outputId": "49b8581b-ec00-4f77-ff63-06680c04a82a",
        "colab": {
          "base_uri": "https://localhost:8080/",
          "height": 366
        }
      },
      "source": [
        "# Here's the scatter plot \n",
        "alt.Chart(cereal).mark_circle().encode(\n",
        "    x='mfr',\n",
        "    y='sugars'\n",
        ")\n"
      ],
      "execution_count": 9,
      "outputs": [
        {
          "output_type": "execute_result",
          "data": {
            "text/plain": [
              "alt.Chart(...)"
            ],
            "text/html": [
              "\n",
              "<div id=\"altair-viz-d0e16576eef841149de0622db8548790\"></div>\n",
              "<script type=\"text/javascript\">\n",
              "  (function(spec, embedOpt){\n",
              "    let outputDiv = document.currentScript.previousElementSibling;\n",
              "    if (outputDiv.id !== \"altair-viz-d0e16576eef841149de0622db8548790\") {\n",
              "      outputDiv = document.getElementById(\"altair-viz-d0e16576eef841149de0622db8548790\");\n",
              "    }\n",
              "    const paths = {\n",
              "      \"vega\": \"https://cdn.jsdelivr.net/npm//vega@5?noext\",\n",
              "      \"vega-lib\": \"https://cdn.jsdelivr.net/npm//vega-lib?noext\",\n",
              "      \"vega-lite\": \"https://cdn.jsdelivr.net/npm//vega-lite@4.8.1?noext\",\n",
              "      \"vega-embed\": \"https://cdn.jsdelivr.net/npm//vega-embed@6?noext\",\n",
              "    };\n",
              "\n",
              "    function loadScript(lib) {\n",
              "      return new Promise(function(resolve, reject) {\n",
              "        var s = document.createElement('script');\n",
              "        s.src = paths[lib];\n",
              "        s.async = true;\n",
              "        s.onload = () => resolve(paths[lib]);\n",
              "        s.onerror = () => reject(`Error loading script: ${paths[lib]}`);\n",
              "        document.getElementsByTagName(\"head\")[0].appendChild(s);\n",
              "      });\n",
              "    }\n",
              "\n",
              "    function showError(err) {\n",
              "      outputDiv.innerHTML = `<div class=\"error\" style=\"color:red;\">${err}</div>`;\n",
              "      throw err;\n",
              "    }\n",
              "\n",
              "    function displayChart(vegaEmbed) {\n",
              "      vegaEmbed(outputDiv, spec, embedOpt)\n",
              "        .catch(err => showError(`Javascript Error: ${err.message}<br>This usually means there's a typo in your chart specification. See the javascript console for the full traceback.`));\n",
              "    }\n",
              "\n",
              "    if(typeof define === \"function\" && define.amd) {\n",
              "      requirejs.config({paths});\n",
              "      require([\"vega-embed\"], displayChart, err => showError(`Error loading script: ${err.message}`));\n",
              "    } else if (typeof vegaEmbed === \"function\") {\n",
              "      displayChart(vegaEmbed);\n",
              "    } else {\n",
              "      loadScript(\"vega\")\n",
              "        .then(() => loadScript(\"vega-lite\"))\n",
              "        .then(() => loadScript(\"vega-embed\"))\n",
              "        .catch(showError)\n",
              "        .then(() => displayChart(vegaEmbed));\n",
              "    }\n",
              "  })({\"config\": {\"view\": {\"continuousWidth\": 400, \"continuousHeight\": 300}}, \"data\": {\"name\": \"data-e3fa4752c4cbe075d20fd5dc066bc5a9\"}, \"mark\": \"circle\", \"encoding\": {\"x\": {\"type\": \"nominal\", \"field\": \"mfr\"}, \"y\": {\"type\": \"quantitative\", \"field\": \"sugars\"}}, \"$schema\": \"https://vega.github.io/schema/vega-lite/v4.8.1.json\", \"datasets\": {\"data-e3fa4752c4cbe075d20fd5dc066bc5a9\": [{\"name\": \"100% Bran\", \"mfr\": \"N\", \"type\": \"C\", \"calories\": 70, \"protein\": 4, \"fat\": 1, \"sodium\": 130, \"fiber\": 10.0, \"carbo\": 5.0, \"sugars\": 6, \"potass\": 280, \"vitamins\": 25, \"shelf\": 3, \"weight\": 1.0, \"cups\": 0.33, \"rating\": 68.402973, \"mfr_name\": \"Nabisco\"}, {\"name\": \"100% Natural Bran\", \"mfr\": \"Q\", \"type\": \"C\", \"calories\": 120, \"protein\": 3, \"fat\": 5, \"sodium\": 15, \"fiber\": 2.0, \"carbo\": 8.0, \"sugars\": 8, \"potass\": 135, \"vitamins\": 0, \"shelf\": 3, \"weight\": 1.0, \"cups\": 1.0, \"rating\": 33.983678999999995, \"mfr_name\": \"Quaker Oats\"}, {\"name\": \"All-Bran\", \"mfr\": \"K\", \"type\": \"C\", \"calories\": 70, \"protein\": 4, \"fat\": 1, \"sodium\": 260, \"fiber\": 9.0, \"carbo\": 7.0, \"sugars\": 5, \"potass\": 320, \"vitamins\": 25, \"shelf\": 3, \"weight\": 1.0, \"cups\": 0.33, \"rating\": 59.425505, \"mfr_name\": \"Kelloggs\"}, {\"name\": \"All-Bran with Extra Fiber\", \"mfr\": \"K\", \"type\": \"C\", \"calories\": 50, \"protein\": 4, \"fat\": 0, \"sodium\": 140, \"fiber\": 14.0, \"carbo\": 8.0, \"sugars\": 0, \"potass\": 330, \"vitamins\": 25, \"shelf\": 3, \"weight\": 1.0, \"cups\": 0.5, \"rating\": 93.704912, \"mfr_name\": \"Kelloggs\"}, {\"name\": \"Almond Delight\", \"mfr\": \"R\", \"type\": \"C\", \"calories\": 110, \"protein\": 2, \"fat\": 2, \"sodium\": 200, \"fiber\": 1.0, \"carbo\": 14.0, \"sugars\": 8, \"potass\": -1, \"vitamins\": 25, \"shelf\": 3, \"weight\": 1.0, \"cups\": 0.75, \"rating\": 34.384843, \"mfr_name\": \"Ralston Purina\"}, {\"name\": \"Apple Cinnamon Cheerios\", \"mfr\": \"G\", \"type\": \"C\", \"calories\": 110, \"protein\": 2, \"fat\": 2, \"sodium\": 180, \"fiber\": 1.5, \"carbo\": 10.5, \"sugars\": 10, \"potass\": 70, \"vitamins\": 25, \"shelf\": 1, \"weight\": 1.0, \"cups\": 0.75, \"rating\": 29.509541, \"mfr_name\": \"General Mills\"}, {\"name\": \"Apple Jacks\", \"mfr\": \"K\", \"type\": \"C\", \"calories\": 110, \"protein\": 2, \"fat\": 0, \"sodium\": 125, \"fiber\": 1.0, \"carbo\": 11.0, \"sugars\": 14, \"potass\": 30, \"vitamins\": 25, \"shelf\": 2, \"weight\": 1.0, \"cups\": 1.0, \"rating\": 33.174094000000004, \"mfr_name\": \"Kelloggs\"}, {\"name\": \"Basic 4\", \"mfr\": \"G\", \"type\": \"C\", \"calories\": 130, \"protein\": 3, \"fat\": 2, \"sodium\": 210, \"fiber\": 2.0, \"carbo\": 18.0, \"sugars\": 8, \"potass\": 100, \"vitamins\": 25, \"shelf\": 3, \"weight\": 1.33, \"cups\": 0.75, \"rating\": 37.038562, \"mfr_name\": \"General Mills\"}, {\"name\": \"Bran Chex\", \"mfr\": \"R\", \"type\": \"C\", \"calories\": 90, \"protein\": 2, \"fat\": 1, \"sodium\": 200, \"fiber\": 4.0, \"carbo\": 15.0, \"sugars\": 6, \"potass\": 125, \"vitamins\": 25, \"shelf\": 1, \"weight\": 1.0, \"cups\": 0.67, \"rating\": 49.120253000000005, \"mfr_name\": \"Ralston Purina\"}, {\"name\": \"Bran Flakes\", \"mfr\": \"P\", \"type\": \"C\", \"calories\": 90, \"protein\": 3, \"fat\": 0, \"sodium\": 210, \"fiber\": 5.0, \"carbo\": 13.0, \"sugars\": 5, \"potass\": 190, \"vitamins\": 25, \"shelf\": 3, \"weight\": 1.0, \"cups\": 0.67, \"rating\": 53.313813, \"mfr_name\": \"Post\"}, {\"name\": \"Cap'n'Crunch\", \"mfr\": \"Q\", \"type\": \"C\", \"calories\": 120, \"protein\": 1, \"fat\": 2, \"sodium\": 220, \"fiber\": 0.0, \"carbo\": 12.0, \"sugars\": 12, \"potass\": 35, \"vitamins\": 25, \"shelf\": 2, \"weight\": 1.0, \"cups\": 0.75, \"rating\": 18.042851000000002, \"mfr_name\": \"Quaker Oats\"}, {\"name\": \"Cheerios\", \"mfr\": \"G\", \"type\": \"C\", \"calories\": 110, \"protein\": 6, \"fat\": 2, \"sodium\": 290, \"fiber\": 2.0, \"carbo\": 17.0, \"sugars\": 1, \"potass\": 105, \"vitamins\": 25, \"shelf\": 1, \"weight\": 1.0, \"cups\": 1.25, \"rating\": 50.764998999999996, \"mfr_name\": \"General Mills\"}, {\"name\": \"Cinnamon Toast Crunch\", \"mfr\": \"G\", \"type\": \"C\", \"calories\": 120, \"protein\": 1, \"fat\": 3, \"sodium\": 210, \"fiber\": 0.0, \"carbo\": 13.0, \"sugars\": 9, \"potass\": 45, \"vitamins\": 25, \"shelf\": 2, \"weight\": 1.0, \"cups\": 0.75, \"rating\": 19.823573, \"mfr_name\": \"General Mills\"}, {\"name\": \"Clusters\", \"mfr\": \"G\", \"type\": \"C\", \"calories\": 110, \"protein\": 3, \"fat\": 2, \"sodium\": 140, \"fiber\": 2.0, \"carbo\": 13.0, \"sugars\": 7, \"potass\": 105, \"vitamins\": 25, \"shelf\": 3, \"weight\": 1.0, \"cups\": 0.5, \"rating\": 40.400208, \"mfr_name\": \"General Mills\"}, {\"name\": \"Cocoa Puffs\", \"mfr\": \"G\", \"type\": \"C\", \"calories\": 110, \"protein\": 1, \"fat\": 1, \"sodium\": 180, \"fiber\": 0.0, \"carbo\": 12.0, \"sugars\": 13, \"potass\": 55, \"vitamins\": 25, \"shelf\": 2, \"weight\": 1.0, \"cups\": 1.0, \"rating\": 22.736446, \"mfr_name\": \"General Mills\"}, {\"name\": \"Corn Chex\", \"mfr\": \"R\", \"type\": \"C\", \"calories\": 110, \"protein\": 2, \"fat\": 0, \"sodium\": 280, \"fiber\": 0.0, \"carbo\": 22.0, \"sugars\": 3, \"potass\": 25, \"vitamins\": 25, \"shelf\": 1, \"weight\": 1.0, \"cups\": 1.0, \"rating\": 41.445019, \"mfr_name\": \"Ralston Purina\"}, {\"name\": \"Corn Flakes\", \"mfr\": \"K\", \"type\": \"C\", \"calories\": 100, \"protein\": 2, \"fat\": 0, \"sodium\": 290, \"fiber\": 1.0, \"carbo\": 21.0, \"sugars\": 2, \"potass\": 35, \"vitamins\": 25, \"shelf\": 1, \"weight\": 1.0, \"cups\": 1.0, \"rating\": 45.863324, \"mfr_name\": \"Kelloggs\"}, {\"name\": \"Corn Pops\", \"mfr\": \"K\", \"type\": \"C\", \"calories\": 110, \"protein\": 1, \"fat\": 0, \"sodium\": 90, \"fiber\": 1.0, \"carbo\": 13.0, \"sugars\": 12, \"potass\": 20, \"vitamins\": 25, \"shelf\": 2, \"weight\": 1.0, \"cups\": 1.0, \"rating\": 35.782790999999996, \"mfr_name\": \"Kelloggs\"}, {\"name\": \"Count Chocula\", \"mfr\": \"G\", \"type\": \"C\", \"calories\": 110, \"protein\": 1, \"fat\": 1, \"sodium\": 180, \"fiber\": 0.0, \"carbo\": 12.0, \"sugars\": 13, \"potass\": 65, \"vitamins\": 25, \"shelf\": 2, \"weight\": 1.0, \"cups\": 1.0, \"rating\": 22.396513, \"mfr_name\": \"General Mills\"}, {\"name\": \"Cracklin' Oat Bran\", \"mfr\": \"K\", \"type\": \"C\", \"calories\": 110, \"protein\": 3, \"fat\": 3, \"sodium\": 140, \"fiber\": 4.0, \"carbo\": 10.0, \"sugars\": 7, \"potass\": 160, \"vitamins\": 25, \"shelf\": 3, \"weight\": 1.0, \"cups\": 0.5, \"rating\": 40.448772, \"mfr_name\": \"Kelloggs\"}, {\"name\": \"Cream of Wheat (Quick)\", \"mfr\": \"N\", \"type\": \"H\", \"calories\": 100, \"protein\": 3, \"fat\": 0, \"sodium\": 80, \"fiber\": 1.0, \"carbo\": 21.0, \"sugars\": 0, \"potass\": -1, \"vitamins\": 0, \"shelf\": 2, \"weight\": 1.0, \"cups\": 1.0, \"rating\": 64.533816, \"mfr_name\": \"Nabisco\"}, {\"name\": \"Crispix\", \"mfr\": \"K\", \"type\": \"C\", \"calories\": 110, \"protein\": 2, \"fat\": 0, \"sodium\": 220, \"fiber\": 1.0, \"carbo\": 21.0, \"sugars\": 3, \"potass\": 30, \"vitamins\": 25, \"shelf\": 3, \"weight\": 1.0, \"cups\": 1.0, \"rating\": 46.895644, \"mfr_name\": \"Kelloggs\"}, {\"name\": \"Crispy Wheat & Raisins\", \"mfr\": \"G\", \"type\": \"C\", \"calories\": 100, \"protein\": 2, \"fat\": 1, \"sodium\": 140, \"fiber\": 2.0, \"carbo\": 11.0, \"sugars\": 10, \"potass\": 120, \"vitamins\": 25, \"shelf\": 3, \"weight\": 1.0, \"cups\": 0.75, \"rating\": 36.176196000000004, \"mfr_name\": \"General Mills\"}, {\"name\": \"Double Chex\", \"mfr\": \"R\", \"type\": \"C\", \"calories\": 100, \"protein\": 2, \"fat\": 0, \"sodium\": 190, \"fiber\": 1.0, \"carbo\": 18.0, \"sugars\": 5, \"potass\": 80, \"vitamins\": 25, \"shelf\": 3, \"weight\": 1.0, \"cups\": 0.75, \"rating\": 44.330856, \"mfr_name\": \"Ralston Purina\"}, {\"name\": \"Froot Loops\", \"mfr\": \"K\", \"type\": \"C\", \"calories\": 110, \"protein\": 2, \"fat\": 1, \"sodium\": 125, \"fiber\": 1.0, \"carbo\": 11.0, \"sugars\": 13, \"potass\": 30, \"vitamins\": 25, \"shelf\": 2, \"weight\": 1.0, \"cups\": 1.0, \"rating\": 32.207582, \"mfr_name\": \"Kelloggs\"}, {\"name\": \"Frosted Flakes\", \"mfr\": \"K\", \"type\": \"C\", \"calories\": 110, \"protein\": 1, \"fat\": 0, \"sodium\": 200, \"fiber\": 1.0, \"carbo\": 14.0, \"sugars\": 11, \"potass\": 25, \"vitamins\": 25, \"shelf\": 1, \"weight\": 1.0, \"cups\": 0.75, \"rating\": 31.435972999999997, \"mfr_name\": \"Kelloggs\"}, {\"name\": \"Frosted Mini-Wheats\", \"mfr\": \"K\", \"type\": \"C\", \"calories\": 100, \"protein\": 3, \"fat\": 0, \"sodium\": 0, \"fiber\": 3.0, \"carbo\": 14.0, \"sugars\": 7, \"potass\": 100, \"vitamins\": 25, \"shelf\": 2, \"weight\": 1.0, \"cups\": 0.8, \"rating\": 58.345141000000005, \"mfr_name\": \"Kelloggs\"}, {\"name\": \"Fruit & Fibre Dates; Walnuts; and Oats\", \"mfr\": \"P\", \"type\": \"C\", \"calories\": 120, \"protein\": 3, \"fat\": 2, \"sodium\": 160, \"fiber\": 5.0, \"carbo\": 12.0, \"sugars\": 10, \"potass\": 200, \"vitamins\": 25, \"shelf\": 3, \"weight\": 1.25, \"cups\": 0.67, \"rating\": 40.917047, \"mfr_name\": \"Post\"}, {\"name\": \"Fruitful Bran\", \"mfr\": \"K\", \"type\": \"C\", \"calories\": 120, \"protein\": 3, \"fat\": 0, \"sodium\": 240, \"fiber\": 5.0, \"carbo\": 14.0, \"sugars\": 12, \"potass\": 190, \"vitamins\": 25, \"shelf\": 3, \"weight\": 1.33, \"cups\": 0.67, \"rating\": 41.015492, \"mfr_name\": \"Kelloggs\"}, {\"name\": \"Fruity Pebbles\", \"mfr\": \"P\", \"type\": \"C\", \"calories\": 110, \"protein\": 1, \"fat\": 1, \"sodium\": 135, \"fiber\": 0.0, \"carbo\": 13.0, \"sugars\": 12, \"potass\": 25, \"vitamins\": 25, \"shelf\": 2, \"weight\": 1.0, \"cups\": 0.75, \"rating\": 28.025765000000003, \"mfr_name\": \"Post\"}, {\"name\": \"Golden Crisp\", \"mfr\": \"P\", \"type\": \"C\", \"calories\": 100, \"protein\": 2, \"fat\": 0, \"sodium\": 45, \"fiber\": 0.0, \"carbo\": 11.0, \"sugars\": 15, \"potass\": 40, \"vitamins\": 25, \"shelf\": 1, \"weight\": 1.0, \"cups\": 0.88, \"rating\": 35.252444, \"mfr_name\": \"Post\"}, {\"name\": \"Golden Grahams\", \"mfr\": \"G\", \"type\": \"C\", \"calories\": 110, \"protein\": 1, \"fat\": 1, \"sodium\": 280, \"fiber\": 0.0, \"carbo\": 15.0, \"sugars\": 9, \"potass\": 45, \"vitamins\": 25, \"shelf\": 2, \"weight\": 1.0, \"cups\": 0.75, \"rating\": 23.804043, \"mfr_name\": \"General Mills\"}, {\"name\": \"Grape Nuts Flakes\", \"mfr\": \"P\", \"type\": \"C\", \"calories\": 100, \"protein\": 3, \"fat\": 1, \"sodium\": 140, \"fiber\": 3.0, \"carbo\": 15.0, \"sugars\": 5, \"potass\": 85, \"vitamins\": 25, \"shelf\": 3, \"weight\": 1.0, \"cups\": 0.88, \"rating\": 52.076896999999995, \"mfr_name\": \"Post\"}, {\"name\": \"Grape-Nuts\", \"mfr\": \"P\", \"type\": \"C\", \"calories\": 110, \"protein\": 3, \"fat\": 0, \"sodium\": 170, \"fiber\": 3.0, \"carbo\": 17.0, \"sugars\": 3, \"potass\": 90, \"vitamins\": 25, \"shelf\": 3, \"weight\": 1.0, \"cups\": 0.25, \"rating\": 53.37100699999999, \"mfr_name\": \"Post\"}, {\"name\": \"Great Grains Pecan\", \"mfr\": \"P\", \"type\": \"C\", \"calories\": 120, \"protein\": 3, \"fat\": 3, \"sodium\": 75, \"fiber\": 3.0, \"carbo\": 13.0, \"sugars\": 4, \"potass\": 100, \"vitamins\": 25, \"shelf\": 3, \"weight\": 1.0, \"cups\": 0.33, \"rating\": 45.811716, \"mfr_name\": \"Post\"}, {\"name\": \"Honey Graham Ohs\", \"mfr\": \"Q\", \"type\": \"C\", \"calories\": 120, \"protein\": 1, \"fat\": 2, \"sodium\": 220, \"fiber\": 1.0, \"carbo\": 12.0, \"sugars\": 11, \"potass\": 45, \"vitamins\": 25, \"shelf\": 2, \"weight\": 1.0, \"cups\": 1.0, \"rating\": 21.871292, \"mfr_name\": \"Quaker Oats\"}, {\"name\": \"Honey Nut Cheerios\", \"mfr\": \"G\", \"type\": \"C\", \"calories\": 110, \"protein\": 3, \"fat\": 1, \"sodium\": 250, \"fiber\": 1.5, \"carbo\": 11.5, \"sugars\": 10, \"potass\": 90, \"vitamins\": 25, \"shelf\": 1, \"weight\": 1.0, \"cups\": 0.75, \"rating\": 31.072217, \"mfr_name\": \"General Mills\"}, {\"name\": \"Honey-comb\", \"mfr\": \"P\", \"type\": \"C\", \"calories\": 110, \"protein\": 1, \"fat\": 0, \"sodium\": 180, \"fiber\": 0.0, \"carbo\": 14.0, \"sugars\": 11, \"potass\": 35, \"vitamins\": 25, \"shelf\": 1, \"weight\": 1.0, \"cups\": 1.33, \"rating\": 28.742414, \"mfr_name\": \"Post\"}, {\"name\": \"Just Right Crunchy  Nuggets\", \"mfr\": \"K\", \"type\": \"C\", \"calories\": 110, \"protein\": 2, \"fat\": 1, \"sodium\": 170, \"fiber\": 1.0, \"carbo\": 17.0, \"sugars\": 6, \"potass\": 60, \"vitamins\": 100, \"shelf\": 3, \"weight\": 1.0, \"cups\": 1.0, \"rating\": 36.523683, \"mfr_name\": \"Kelloggs\"}, {\"name\": \"Just Right Fruit & Nut\", \"mfr\": \"K\", \"type\": \"C\", \"calories\": 140, \"protein\": 3, \"fat\": 1, \"sodium\": 170, \"fiber\": 2.0, \"carbo\": 20.0, \"sugars\": 9, \"potass\": 95, \"vitamins\": 100, \"shelf\": 3, \"weight\": 1.3, \"cups\": 0.75, \"rating\": 36.471512, \"mfr_name\": \"Kelloggs\"}, {\"name\": \"Kix\", \"mfr\": \"G\", \"type\": \"C\", \"calories\": 110, \"protein\": 2, \"fat\": 1, \"sodium\": 260, \"fiber\": 0.0, \"carbo\": 21.0, \"sugars\": 3, \"potass\": 40, \"vitamins\": 25, \"shelf\": 2, \"weight\": 1.0, \"cups\": 1.5, \"rating\": 39.241114, \"mfr_name\": \"General Mills\"}, {\"name\": \"Life\", \"mfr\": \"Q\", \"type\": \"C\", \"calories\": 100, \"protein\": 4, \"fat\": 2, \"sodium\": 150, \"fiber\": 2.0, \"carbo\": 12.0, \"sugars\": 6, \"potass\": 95, \"vitamins\": 25, \"shelf\": 2, \"weight\": 1.0, \"cups\": 0.67, \"rating\": 45.328074, \"mfr_name\": \"Quaker Oats\"}, {\"name\": \"Lucky Charms\", \"mfr\": \"G\", \"type\": \"C\", \"calories\": 110, \"protein\": 2, \"fat\": 1, \"sodium\": 180, \"fiber\": 0.0, \"carbo\": 12.0, \"sugars\": 12, \"potass\": 55, \"vitamins\": 25, \"shelf\": 2, \"weight\": 1.0, \"cups\": 1.0, \"rating\": 26.734515000000002, \"mfr_name\": \"General Mills\"}, {\"name\": \"Maypo\", \"mfr\": \"A\", \"type\": \"H\", \"calories\": 100, \"protein\": 4, \"fat\": 1, \"sodium\": 0, \"fiber\": 0.0, \"carbo\": 16.0, \"sugars\": 3, \"potass\": 95, \"vitamins\": 25, \"shelf\": 2, \"weight\": 1.0, \"cups\": 1.0, \"rating\": 54.850917, \"mfr_name\": \"American Home Food Products\"}, {\"name\": \"Muesli Raisins; Dates; & Almonds\", \"mfr\": \"R\", \"type\": \"C\", \"calories\": 150, \"protein\": 4, \"fat\": 3, \"sodium\": 95, \"fiber\": 3.0, \"carbo\": 16.0, \"sugars\": 11, \"potass\": 170, \"vitamins\": 25, \"shelf\": 3, \"weight\": 1.0, \"cups\": 1.0, \"rating\": 37.136863, \"mfr_name\": \"Ralston Purina\"}, {\"name\": \"Muesli Raisins; Peaches; & Pecans\", \"mfr\": \"R\", \"type\": \"C\", \"calories\": 150, \"protein\": 4, \"fat\": 3, \"sodium\": 150, \"fiber\": 3.0, \"carbo\": 16.0, \"sugars\": 11, \"potass\": 170, \"vitamins\": 25, \"shelf\": 3, \"weight\": 1.0, \"cups\": 1.0, \"rating\": 34.139765000000004, \"mfr_name\": \"Ralston Purina\"}, {\"name\": \"Mueslix Crispy Blend\", \"mfr\": \"K\", \"type\": \"C\", \"calories\": 160, \"protein\": 3, \"fat\": 2, \"sodium\": 150, \"fiber\": 3.0, \"carbo\": 17.0, \"sugars\": 13, \"potass\": 160, \"vitamins\": 25, \"shelf\": 3, \"weight\": 1.5, \"cups\": 0.67, \"rating\": 30.313351, \"mfr_name\": \"Kelloggs\"}, {\"name\": \"Multi-Grain Cheerios\", \"mfr\": \"G\", \"type\": \"C\", \"calories\": 100, \"protein\": 2, \"fat\": 1, \"sodium\": 220, \"fiber\": 2.0, \"carbo\": 15.0, \"sugars\": 6, \"potass\": 90, \"vitamins\": 25, \"shelf\": 1, \"weight\": 1.0, \"cups\": 1.0, \"rating\": 40.105965000000005, \"mfr_name\": \"General Mills\"}, {\"name\": \"Nut&Honey Crunch\", \"mfr\": \"K\", \"type\": \"C\", \"calories\": 120, \"protein\": 2, \"fat\": 1, \"sodium\": 190, \"fiber\": 0.0, \"carbo\": 15.0, \"sugars\": 9, \"potass\": 40, \"vitamins\": 25, \"shelf\": 2, \"weight\": 1.0, \"cups\": 0.67, \"rating\": 29.924284999999998, \"mfr_name\": \"Kelloggs\"}, {\"name\": \"Nutri-Grain Almond-Raisin\", \"mfr\": \"K\", \"type\": \"C\", \"calories\": 140, \"protein\": 3, \"fat\": 2, \"sodium\": 220, \"fiber\": 3.0, \"carbo\": 21.0, \"sugars\": 7, \"potass\": 130, \"vitamins\": 25, \"shelf\": 3, \"weight\": 1.33, \"cups\": 0.67, \"rating\": 40.69232, \"mfr_name\": \"Kelloggs\"}, {\"name\": \"Nutri-grain Wheat\", \"mfr\": \"K\", \"type\": \"C\", \"calories\": 90, \"protein\": 3, \"fat\": 0, \"sodium\": 170, \"fiber\": 3.0, \"carbo\": 18.0, \"sugars\": 2, \"potass\": 90, \"vitamins\": 25, \"shelf\": 3, \"weight\": 1.0, \"cups\": 1.0, \"rating\": 59.642837, \"mfr_name\": \"Kelloggs\"}, {\"name\": \"Oatmeal Raisin Crisp\", \"mfr\": \"G\", \"type\": \"C\", \"calories\": 130, \"protein\": 3, \"fat\": 2, \"sodium\": 170, \"fiber\": 1.5, \"carbo\": 13.5, \"sugars\": 10, \"potass\": 120, \"vitamins\": 25, \"shelf\": 3, \"weight\": 1.25, \"cups\": 0.5, \"rating\": 30.450843, \"mfr_name\": \"General Mills\"}, {\"name\": \"Post Nat. Raisin Bran\", \"mfr\": \"P\", \"type\": \"C\", \"calories\": 120, \"protein\": 3, \"fat\": 1, \"sodium\": 200, \"fiber\": 6.0, \"carbo\": 11.0, \"sugars\": 14, \"potass\": 260, \"vitamins\": 25, \"shelf\": 3, \"weight\": 1.33, \"cups\": 0.67, \"rating\": 37.840594, \"mfr_name\": \"Post\"}, {\"name\": \"Product 19\", \"mfr\": \"K\", \"type\": \"C\", \"calories\": 100, \"protein\": 3, \"fat\": 0, \"sodium\": 320, \"fiber\": 1.0, \"carbo\": 20.0, \"sugars\": 3, \"potass\": 45, \"vitamins\": 100, \"shelf\": 3, \"weight\": 1.0, \"cups\": 1.0, \"rating\": 41.50354, \"mfr_name\": \"Kelloggs\"}, {\"name\": \"Puffed Rice\", \"mfr\": \"Q\", \"type\": \"C\", \"calories\": 50, \"protein\": 1, \"fat\": 0, \"sodium\": 0, \"fiber\": 0.0, \"carbo\": 13.0, \"sugars\": 0, \"potass\": 15, \"vitamins\": 0, \"shelf\": 3, \"weight\": 0.5, \"cups\": 1.0, \"rating\": 60.756112, \"mfr_name\": \"Quaker Oats\"}, {\"name\": \"Puffed Wheat\", \"mfr\": \"Q\", \"type\": \"C\", \"calories\": 50, \"protein\": 2, \"fat\": 0, \"sodium\": 0, \"fiber\": 1.0, \"carbo\": 10.0, \"sugars\": 0, \"potass\": 50, \"vitamins\": 0, \"shelf\": 3, \"weight\": 0.5, \"cups\": 1.0, \"rating\": 63.005644999999994, \"mfr_name\": \"Quaker Oats\"}, {\"name\": \"Quaker Oat Squares\", \"mfr\": \"Q\", \"type\": \"C\", \"calories\": 100, \"protein\": 4, \"fat\": 1, \"sodium\": 135, \"fiber\": 2.0, \"carbo\": 14.0, \"sugars\": 6, \"potass\": 110, \"vitamins\": 25, \"shelf\": 3, \"weight\": 1.0, \"cups\": 0.5, \"rating\": 49.511874, \"mfr_name\": \"Quaker Oats\"}, {\"name\": \"Quaker Oatmeal\", \"mfr\": \"Q\", \"type\": \"H\", \"calories\": 100, \"protein\": 5, \"fat\": 2, \"sodium\": 0, \"fiber\": 2.7, \"carbo\": -1.0, \"sugars\": -1, \"potass\": 110, \"vitamins\": 0, \"shelf\": 1, \"weight\": 1.0, \"cups\": 0.67, \"rating\": 50.828392, \"mfr_name\": \"Quaker Oats\"}, {\"name\": \"Raisin Bran\", \"mfr\": \"K\", \"type\": \"C\", \"calories\": 120, \"protein\": 3, \"fat\": 1, \"sodium\": 210, \"fiber\": 5.0, \"carbo\": 14.0, \"sugars\": 12, \"potass\": 240, \"vitamins\": 25, \"shelf\": 2, \"weight\": 1.33, \"cups\": 0.75, \"rating\": 39.259197, \"mfr_name\": \"Kelloggs\"}, {\"name\": \"Raisin Nut Bran\", \"mfr\": \"G\", \"type\": \"C\", \"calories\": 100, \"protein\": 3, \"fat\": 2, \"sodium\": 140, \"fiber\": 2.5, \"carbo\": 10.5, \"sugars\": 8, \"potass\": 140, \"vitamins\": 25, \"shelf\": 3, \"weight\": 1.0, \"cups\": 0.5, \"rating\": 39.7034, \"mfr_name\": \"General Mills\"}, {\"name\": \"Raisin Squares\", \"mfr\": \"K\", \"type\": \"C\", \"calories\": 90, \"protein\": 2, \"fat\": 0, \"sodium\": 0, \"fiber\": 2.0, \"carbo\": 15.0, \"sugars\": 6, \"potass\": 110, \"vitamins\": 25, \"shelf\": 3, \"weight\": 1.0, \"cups\": 0.5, \"rating\": 55.333142, \"mfr_name\": \"Kelloggs\"}, {\"name\": \"Rice Chex\", \"mfr\": \"R\", \"type\": \"C\", \"calories\": 110, \"protein\": 1, \"fat\": 0, \"sodium\": 240, \"fiber\": 0.0, \"carbo\": 23.0, \"sugars\": 2, \"potass\": 30, \"vitamins\": 25, \"shelf\": 1, \"weight\": 1.0, \"cups\": 1.13, \"rating\": 41.998933, \"mfr_name\": \"Ralston Purina\"}, {\"name\": \"Rice Krispies\", \"mfr\": \"K\", \"type\": \"C\", \"calories\": 110, \"protein\": 2, \"fat\": 0, \"sodium\": 290, \"fiber\": 0.0, \"carbo\": 22.0, \"sugars\": 3, \"potass\": 35, \"vitamins\": 25, \"shelf\": 1, \"weight\": 1.0, \"cups\": 1.0, \"rating\": 40.560159000000006, \"mfr_name\": \"Kelloggs\"}, {\"name\": \"Shredded Wheat\", \"mfr\": \"N\", \"type\": \"C\", \"calories\": 80, \"protein\": 2, \"fat\": 0, \"sodium\": 0, \"fiber\": 3.0, \"carbo\": 16.0, \"sugars\": 0, \"potass\": 95, \"vitamins\": 0, \"shelf\": 1, \"weight\": 0.83, \"cups\": 1.0, \"rating\": 68.235885, \"mfr_name\": \"Nabisco\"}, {\"name\": \"Shredded Wheat 'n'Bran\", \"mfr\": \"N\", \"type\": \"C\", \"calories\": 90, \"protein\": 3, \"fat\": 0, \"sodium\": 0, \"fiber\": 4.0, \"carbo\": 19.0, \"sugars\": 0, \"potass\": 140, \"vitamins\": 0, \"shelf\": 1, \"weight\": 1.0, \"cups\": 0.67, \"rating\": 74.472949, \"mfr_name\": \"Nabisco\"}, {\"name\": \"Shredded Wheat spoon size\", \"mfr\": \"N\", \"type\": \"C\", \"calories\": 90, \"protein\": 3, \"fat\": 0, \"sodium\": 0, \"fiber\": 3.0, \"carbo\": 20.0, \"sugars\": 0, \"potass\": 120, \"vitamins\": 0, \"shelf\": 1, \"weight\": 1.0, \"cups\": 0.67, \"rating\": 72.801787, \"mfr_name\": \"Nabisco\"}, {\"name\": \"Smacks\", \"mfr\": \"K\", \"type\": \"C\", \"calories\": 110, \"protein\": 2, \"fat\": 1, \"sodium\": 70, \"fiber\": 1.0, \"carbo\": 9.0, \"sugars\": 15, \"potass\": 40, \"vitamins\": 25, \"shelf\": 2, \"weight\": 1.0, \"cups\": 0.75, \"rating\": 31.230054, \"mfr_name\": \"Kelloggs\"}, {\"name\": \"Special K\", \"mfr\": \"K\", \"type\": \"C\", \"calories\": 110, \"protein\": 6, \"fat\": 0, \"sodium\": 230, \"fiber\": 1.0, \"carbo\": 16.0, \"sugars\": 3, \"potass\": 55, \"vitamins\": 25, \"shelf\": 1, \"weight\": 1.0, \"cups\": 1.0, \"rating\": 53.131324, \"mfr_name\": \"Kelloggs\"}, {\"name\": \"Strawberry Fruit Wheats\", \"mfr\": \"N\", \"type\": \"C\", \"calories\": 90, \"protein\": 2, \"fat\": 0, \"sodium\": 15, \"fiber\": 3.0, \"carbo\": 15.0, \"sugars\": 5, \"potass\": 90, \"vitamins\": 25, \"shelf\": 2, \"weight\": 1.0, \"cups\": 1.0, \"rating\": 59.36399300000001, \"mfr_name\": \"Nabisco\"}, {\"name\": \"Total Corn Flakes\", \"mfr\": \"G\", \"type\": \"C\", \"calories\": 110, \"protein\": 2, \"fat\": 1, \"sodium\": 200, \"fiber\": 0.0, \"carbo\": 21.0, \"sugars\": 3, \"potass\": 35, \"vitamins\": 100, \"shelf\": 3, \"weight\": 1.0, \"cups\": 1.0, \"rating\": 38.839746000000005, \"mfr_name\": \"General Mills\"}, {\"name\": \"Total Raisin Bran\", \"mfr\": \"G\", \"type\": \"C\", \"calories\": 140, \"protein\": 3, \"fat\": 1, \"sodium\": 190, \"fiber\": 4.0, \"carbo\": 15.0, \"sugars\": 14, \"potass\": 230, \"vitamins\": 100, \"shelf\": 3, \"weight\": 1.5, \"cups\": 1.0, \"rating\": 28.592785, \"mfr_name\": \"General Mills\"}, {\"name\": \"Total Whole Grain\", \"mfr\": \"G\", \"type\": \"C\", \"calories\": 100, \"protein\": 3, \"fat\": 1, \"sodium\": 200, \"fiber\": 3.0, \"carbo\": 16.0, \"sugars\": 3, \"potass\": 110, \"vitamins\": 100, \"shelf\": 3, \"weight\": 1.0, \"cups\": 1.0, \"rating\": 46.658844, \"mfr_name\": \"General Mills\"}, {\"name\": \"Triples\", \"mfr\": \"G\", \"type\": \"C\", \"calories\": 110, \"protein\": 2, \"fat\": 1, \"sodium\": 250, \"fiber\": 0.0, \"carbo\": 21.0, \"sugars\": 3, \"potass\": 60, \"vitamins\": 25, \"shelf\": 3, \"weight\": 1.0, \"cups\": 0.75, \"rating\": 39.106173999999996, \"mfr_name\": \"General Mills\"}, {\"name\": \"Trix\", \"mfr\": \"G\", \"type\": \"C\", \"calories\": 110, \"protein\": 1, \"fat\": 1, \"sodium\": 140, \"fiber\": 0.0, \"carbo\": 13.0, \"sugars\": 12, \"potass\": 25, \"vitamins\": 25, \"shelf\": 2, \"weight\": 1.0, \"cups\": 1.0, \"rating\": 27.753301, \"mfr_name\": \"General Mills\"}, {\"name\": \"Wheat Chex\", \"mfr\": \"R\", \"type\": \"C\", \"calories\": 100, \"protein\": 3, \"fat\": 1, \"sodium\": 230, \"fiber\": 3.0, \"carbo\": 17.0, \"sugars\": 3, \"potass\": 115, \"vitamins\": 25, \"shelf\": 1, \"weight\": 1.0, \"cups\": 0.67, \"rating\": 49.787445, \"mfr_name\": \"Ralston Purina\"}, {\"name\": \"Wheaties\", \"mfr\": \"G\", \"type\": \"C\", \"calories\": 100, \"protein\": 3, \"fat\": 1, \"sodium\": 200, \"fiber\": 3.0, \"carbo\": 17.0, \"sugars\": 3, \"potass\": 110, \"vitamins\": 25, \"shelf\": 1, \"weight\": 1.0, \"cups\": 1.0, \"rating\": 51.592193, \"mfr_name\": \"General Mills\"}, {\"name\": \"Wheaties Honey Gold\", \"mfr\": \"G\", \"type\": \"C\", \"calories\": 110, \"protein\": 2, \"fat\": 1, \"sodium\": 200, \"fiber\": 1.0, \"carbo\": 16.0, \"sugars\": 8, \"potass\": 60, \"vitamins\": 25, \"shelf\": 1, \"weight\": 1.0, \"cups\": 0.75, \"rating\": 36.187559, \"mfr_name\": \"General Mills\"}]}}, {\"mode\": \"vega-lite\"});\n",
              "</script>"
            ]
          },
          "metadata": {
            "tags": []
          },
          "execution_count": 9
        }
      ]
    },
    {
      "cell_type": "code",
      "metadata": {
        "id": "Ys9hxXaGAhaH",
        "outputId": "f5d40d9c-3b1f-41fc-f86f-82cc0a114ca9",
        "colab": {
          "base_uri": "https://localhost:8080/",
          "height": 515
        }
      },
      "source": [
        "# Let's make this look nicer for marketing. \n",
        "\n",
        "alt.Chart(cereal).mark_circle(size=100).encode(\n",
        "    alt.X('mfr_name', title='Manufacturer'),\n",
        "    alt.Y('sugars', title='Sugar (grams)'),\n",
        "    color=alt.Color('mfr', legend=None)\n",
        ").properties(\n",
        "    width = 800,\n",
        "    title = 'Sugar content of cereal brands'\n",
        ")\n"
      ],
      "execution_count": 10,
      "outputs": [
        {
          "output_type": "execute_result",
          "data": {
            "text/plain": [
              "alt.Chart(...)"
            ],
            "text/html": [
              "\n",
              "<div id=\"altair-viz-9e216f4c7436468183486a23b9dae16b\"></div>\n",
              "<script type=\"text/javascript\">\n",
              "  (function(spec, embedOpt){\n",
              "    let outputDiv = document.currentScript.previousElementSibling;\n",
              "    if (outputDiv.id !== \"altair-viz-9e216f4c7436468183486a23b9dae16b\") {\n",
              "      outputDiv = document.getElementById(\"altair-viz-9e216f4c7436468183486a23b9dae16b\");\n",
              "    }\n",
              "    const paths = {\n",
              "      \"vega\": \"https://cdn.jsdelivr.net/npm//vega@5?noext\",\n",
              "      \"vega-lib\": \"https://cdn.jsdelivr.net/npm//vega-lib?noext\",\n",
              "      \"vega-lite\": \"https://cdn.jsdelivr.net/npm//vega-lite@4.8.1?noext\",\n",
              "      \"vega-embed\": \"https://cdn.jsdelivr.net/npm//vega-embed@6?noext\",\n",
              "    };\n",
              "\n",
              "    function loadScript(lib) {\n",
              "      return new Promise(function(resolve, reject) {\n",
              "        var s = document.createElement('script');\n",
              "        s.src = paths[lib];\n",
              "        s.async = true;\n",
              "        s.onload = () => resolve(paths[lib]);\n",
              "        s.onerror = () => reject(`Error loading script: ${paths[lib]}`);\n",
              "        document.getElementsByTagName(\"head\")[0].appendChild(s);\n",
              "      });\n",
              "    }\n",
              "\n",
              "    function showError(err) {\n",
              "      outputDiv.innerHTML = `<div class=\"error\" style=\"color:red;\">${err}</div>`;\n",
              "      throw err;\n",
              "    }\n",
              "\n",
              "    function displayChart(vegaEmbed) {\n",
              "      vegaEmbed(outputDiv, spec, embedOpt)\n",
              "        .catch(err => showError(`Javascript Error: ${err.message}<br>This usually means there's a typo in your chart specification. See the javascript console for the full traceback.`));\n",
              "    }\n",
              "\n",
              "    if(typeof define === \"function\" && define.amd) {\n",
              "      requirejs.config({paths});\n",
              "      require([\"vega-embed\"], displayChart, err => showError(`Error loading script: ${err.message}`));\n",
              "    } else if (typeof vegaEmbed === \"function\") {\n",
              "      displayChart(vegaEmbed);\n",
              "    } else {\n",
              "      loadScript(\"vega\")\n",
              "        .then(() => loadScript(\"vega-lite\"))\n",
              "        .then(() => loadScript(\"vega-embed\"))\n",
              "        .catch(showError)\n",
              "        .then(() => displayChart(vegaEmbed));\n",
              "    }\n",
              "  })({\"config\": {\"view\": {\"continuousWidth\": 400, \"continuousHeight\": 300}}, \"data\": {\"name\": \"data-e3fa4752c4cbe075d20fd5dc066bc5a9\"}, \"mark\": {\"type\": \"circle\", \"size\": 100}, \"encoding\": {\"color\": {\"type\": \"nominal\", \"field\": \"mfr\", \"legend\": null}, \"x\": {\"type\": \"nominal\", \"field\": \"mfr_name\", \"title\": \"Manufacturer\"}, \"y\": {\"type\": \"quantitative\", \"field\": \"sugars\", \"title\": \"Sugar (grams)\"}}, \"title\": \"Sugar content of cereal brands\", \"width\": 800, \"$schema\": \"https://vega.github.io/schema/vega-lite/v4.8.1.json\", \"datasets\": {\"data-e3fa4752c4cbe075d20fd5dc066bc5a9\": [{\"name\": \"100% Bran\", \"mfr\": \"N\", \"type\": \"C\", \"calories\": 70, \"protein\": 4, \"fat\": 1, \"sodium\": 130, \"fiber\": 10.0, \"carbo\": 5.0, \"sugars\": 6, \"potass\": 280, \"vitamins\": 25, \"shelf\": 3, \"weight\": 1.0, \"cups\": 0.33, \"rating\": 68.402973, \"mfr_name\": \"Nabisco\"}, {\"name\": \"100% Natural Bran\", \"mfr\": \"Q\", \"type\": \"C\", \"calories\": 120, \"protein\": 3, \"fat\": 5, \"sodium\": 15, \"fiber\": 2.0, \"carbo\": 8.0, \"sugars\": 8, \"potass\": 135, \"vitamins\": 0, \"shelf\": 3, \"weight\": 1.0, \"cups\": 1.0, \"rating\": 33.983678999999995, \"mfr_name\": \"Quaker Oats\"}, {\"name\": \"All-Bran\", \"mfr\": \"K\", \"type\": \"C\", \"calories\": 70, \"protein\": 4, \"fat\": 1, \"sodium\": 260, \"fiber\": 9.0, \"carbo\": 7.0, \"sugars\": 5, \"potass\": 320, \"vitamins\": 25, \"shelf\": 3, \"weight\": 1.0, \"cups\": 0.33, \"rating\": 59.425505, \"mfr_name\": \"Kelloggs\"}, {\"name\": \"All-Bran with Extra Fiber\", \"mfr\": \"K\", \"type\": \"C\", \"calories\": 50, \"protein\": 4, \"fat\": 0, \"sodium\": 140, \"fiber\": 14.0, \"carbo\": 8.0, \"sugars\": 0, \"potass\": 330, \"vitamins\": 25, \"shelf\": 3, \"weight\": 1.0, \"cups\": 0.5, \"rating\": 93.704912, \"mfr_name\": \"Kelloggs\"}, {\"name\": \"Almond Delight\", \"mfr\": \"R\", \"type\": \"C\", \"calories\": 110, \"protein\": 2, \"fat\": 2, \"sodium\": 200, \"fiber\": 1.0, \"carbo\": 14.0, \"sugars\": 8, \"potass\": -1, \"vitamins\": 25, \"shelf\": 3, \"weight\": 1.0, \"cups\": 0.75, \"rating\": 34.384843, \"mfr_name\": \"Ralston Purina\"}, {\"name\": \"Apple Cinnamon Cheerios\", \"mfr\": \"G\", \"type\": \"C\", \"calories\": 110, \"protein\": 2, \"fat\": 2, \"sodium\": 180, \"fiber\": 1.5, \"carbo\": 10.5, \"sugars\": 10, \"potass\": 70, \"vitamins\": 25, \"shelf\": 1, \"weight\": 1.0, \"cups\": 0.75, \"rating\": 29.509541, \"mfr_name\": \"General Mills\"}, {\"name\": \"Apple Jacks\", \"mfr\": \"K\", \"type\": \"C\", \"calories\": 110, \"protein\": 2, \"fat\": 0, \"sodium\": 125, \"fiber\": 1.0, \"carbo\": 11.0, \"sugars\": 14, \"potass\": 30, \"vitamins\": 25, \"shelf\": 2, \"weight\": 1.0, \"cups\": 1.0, \"rating\": 33.174094000000004, \"mfr_name\": \"Kelloggs\"}, {\"name\": \"Basic 4\", \"mfr\": \"G\", \"type\": \"C\", \"calories\": 130, \"protein\": 3, \"fat\": 2, \"sodium\": 210, \"fiber\": 2.0, \"carbo\": 18.0, \"sugars\": 8, \"potass\": 100, \"vitamins\": 25, \"shelf\": 3, \"weight\": 1.33, \"cups\": 0.75, \"rating\": 37.038562, \"mfr_name\": \"General Mills\"}, {\"name\": \"Bran Chex\", \"mfr\": \"R\", \"type\": \"C\", \"calories\": 90, \"protein\": 2, \"fat\": 1, \"sodium\": 200, \"fiber\": 4.0, \"carbo\": 15.0, \"sugars\": 6, \"potass\": 125, \"vitamins\": 25, \"shelf\": 1, \"weight\": 1.0, \"cups\": 0.67, \"rating\": 49.120253000000005, \"mfr_name\": \"Ralston Purina\"}, {\"name\": \"Bran Flakes\", \"mfr\": \"P\", \"type\": \"C\", \"calories\": 90, \"protein\": 3, \"fat\": 0, \"sodium\": 210, \"fiber\": 5.0, \"carbo\": 13.0, \"sugars\": 5, \"potass\": 190, \"vitamins\": 25, \"shelf\": 3, \"weight\": 1.0, \"cups\": 0.67, \"rating\": 53.313813, \"mfr_name\": \"Post\"}, {\"name\": \"Cap'n'Crunch\", \"mfr\": \"Q\", \"type\": \"C\", \"calories\": 120, \"protein\": 1, \"fat\": 2, \"sodium\": 220, \"fiber\": 0.0, \"carbo\": 12.0, \"sugars\": 12, \"potass\": 35, \"vitamins\": 25, \"shelf\": 2, \"weight\": 1.0, \"cups\": 0.75, \"rating\": 18.042851000000002, \"mfr_name\": \"Quaker Oats\"}, {\"name\": \"Cheerios\", \"mfr\": \"G\", \"type\": \"C\", \"calories\": 110, \"protein\": 6, \"fat\": 2, \"sodium\": 290, \"fiber\": 2.0, \"carbo\": 17.0, \"sugars\": 1, \"potass\": 105, \"vitamins\": 25, \"shelf\": 1, \"weight\": 1.0, \"cups\": 1.25, \"rating\": 50.764998999999996, \"mfr_name\": \"General Mills\"}, {\"name\": \"Cinnamon Toast Crunch\", \"mfr\": \"G\", \"type\": \"C\", \"calories\": 120, \"protein\": 1, \"fat\": 3, \"sodium\": 210, \"fiber\": 0.0, \"carbo\": 13.0, \"sugars\": 9, \"potass\": 45, \"vitamins\": 25, \"shelf\": 2, \"weight\": 1.0, \"cups\": 0.75, \"rating\": 19.823573, \"mfr_name\": \"General Mills\"}, {\"name\": \"Clusters\", \"mfr\": \"G\", \"type\": \"C\", \"calories\": 110, \"protein\": 3, \"fat\": 2, \"sodium\": 140, \"fiber\": 2.0, \"carbo\": 13.0, \"sugars\": 7, \"potass\": 105, \"vitamins\": 25, \"shelf\": 3, \"weight\": 1.0, \"cups\": 0.5, \"rating\": 40.400208, \"mfr_name\": \"General Mills\"}, {\"name\": \"Cocoa Puffs\", \"mfr\": \"G\", \"type\": \"C\", \"calories\": 110, \"protein\": 1, \"fat\": 1, \"sodium\": 180, \"fiber\": 0.0, \"carbo\": 12.0, \"sugars\": 13, \"potass\": 55, \"vitamins\": 25, \"shelf\": 2, \"weight\": 1.0, \"cups\": 1.0, \"rating\": 22.736446, \"mfr_name\": \"General Mills\"}, {\"name\": \"Corn Chex\", \"mfr\": \"R\", \"type\": \"C\", \"calories\": 110, \"protein\": 2, \"fat\": 0, \"sodium\": 280, \"fiber\": 0.0, \"carbo\": 22.0, \"sugars\": 3, \"potass\": 25, \"vitamins\": 25, \"shelf\": 1, \"weight\": 1.0, \"cups\": 1.0, \"rating\": 41.445019, \"mfr_name\": \"Ralston Purina\"}, {\"name\": \"Corn Flakes\", \"mfr\": \"K\", \"type\": \"C\", \"calories\": 100, \"protein\": 2, \"fat\": 0, \"sodium\": 290, \"fiber\": 1.0, \"carbo\": 21.0, \"sugars\": 2, \"potass\": 35, \"vitamins\": 25, \"shelf\": 1, \"weight\": 1.0, \"cups\": 1.0, \"rating\": 45.863324, \"mfr_name\": \"Kelloggs\"}, {\"name\": \"Corn Pops\", \"mfr\": \"K\", \"type\": \"C\", \"calories\": 110, \"protein\": 1, \"fat\": 0, \"sodium\": 90, \"fiber\": 1.0, \"carbo\": 13.0, \"sugars\": 12, \"potass\": 20, \"vitamins\": 25, \"shelf\": 2, \"weight\": 1.0, \"cups\": 1.0, \"rating\": 35.782790999999996, \"mfr_name\": \"Kelloggs\"}, {\"name\": \"Count Chocula\", \"mfr\": \"G\", \"type\": \"C\", \"calories\": 110, \"protein\": 1, \"fat\": 1, \"sodium\": 180, \"fiber\": 0.0, \"carbo\": 12.0, \"sugars\": 13, \"potass\": 65, \"vitamins\": 25, \"shelf\": 2, \"weight\": 1.0, \"cups\": 1.0, \"rating\": 22.396513, \"mfr_name\": \"General Mills\"}, {\"name\": \"Cracklin' Oat Bran\", \"mfr\": \"K\", \"type\": \"C\", \"calories\": 110, \"protein\": 3, \"fat\": 3, \"sodium\": 140, \"fiber\": 4.0, \"carbo\": 10.0, \"sugars\": 7, \"potass\": 160, \"vitamins\": 25, \"shelf\": 3, \"weight\": 1.0, \"cups\": 0.5, \"rating\": 40.448772, \"mfr_name\": \"Kelloggs\"}, {\"name\": \"Cream of Wheat (Quick)\", \"mfr\": \"N\", \"type\": \"H\", \"calories\": 100, \"protein\": 3, \"fat\": 0, \"sodium\": 80, \"fiber\": 1.0, \"carbo\": 21.0, \"sugars\": 0, \"potass\": -1, \"vitamins\": 0, \"shelf\": 2, \"weight\": 1.0, \"cups\": 1.0, \"rating\": 64.533816, \"mfr_name\": \"Nabisco\"}, {\"name\": \"Crispix\", \"mfr\": \"K\", \"type\": \"C\", \"calories\": 110, \"protein\": 2, \"fat\": 0, \"sodium\": 220, \"fiber\": 1.0, \"carbo\": 21.0, \"sugars\": 3, \"potass\": 30, \"vitamins\": 25, \"shelf\": 3, \"weight\": 1.0, \"cups\": 1.0, \"rating\": 46.895644, \"mfr_name\": \"Kelloggs\"}, {\"name\": \"Crispy Wheat & Raisins\", \"mfr\": \"G\", \"type\": \"C\", \"calories\": 100, \"protein\": 2, \"fat\": 1, \"sodium\": 140, \"fiber\": 2.0, \"carbo\": 11.0, \"sugars\": 10, \"potass\": 120, \"vitamins\": 25, \"shelf\": 3, \"weight\": 1.0, \"cups\": 0.75, \"rating\": 36.176196000000004, \"mfr_name\": \"General Mills\"}, {\"name\": \"Double Chex\", \"mfr\": \"R\", \"type\": \"C\", \"calories\": 100, \"protein\": 2, \"fat\": 0, \"sodium\": 190, \"fiber\": 1.0, \"carbo\": 18.0, \"sugars\": 5, \"potass\": 80, \"vitamins\": 25, \"shelf\": 3, \"weight\": 1.0, \"cups\": 0.75, \"rating\": 44.330856, \"mfr_name\": \"Ralston Purina\"}, {\"name\": \"Froot Loops\", \"mfr\": \"K\", \"type\": \"C\", \"calories\": 110, \"protein\": 2, \"fat\": 1, \"sodium\": 125, \"fiber\": 1.0, \"carbo\": 11.0, \"sugars\": 13, \"potass\": 30, \"vitamins\": 25, \"shelf\": 2, \"weight\": 1.0, \"cups\": 1.0, \"rating\": 32.207582, \"mfr_name\": \"Kelloggs\"}, {\"name\": \"Frosted Flakes\", \"mfr\": \"K\", \"type\": \"C\", \"calories\": 110, \"protein\": 1, \"fat\": 0, \"sodium\": 200, \"fiber\": 1.0, \"carbo\": 14.0, \"sugars\": 11, \"potass\": 25, \"vitamins\": 25, \"shelf\": 1, \"weight\": 1.0, \"cups\": 0.75, \"rating\": 31.435972999999997, \"mfr_name\": \"Kelloggs\"}, {\"name\": \"Frosted Mini-Wheats\", \"mfr\": \"K\", \"type\": \"C\", \"calories\": 100, \"protein\": 3, \"fat\": 0, \"sodium\": 0, \"fiber\": 3.0, \"carbo\": 14.0, \"sugars\": 7, \"potass\": 100, \"vitamins\": 25, \"shelf\": 2, \"weight\": 1.0, \"cups\": 0.8, \"rating\": 58.345141000000005, \"mfr_name\": \"Kelloggs\"}, {\"name\": \"Fruit & Fibre Dates; Walnuts; and Oats\", \"mfr\": \"P\", \"type\": \"C\", \"calories\": 120, \"protein\": 3, \"fat\": 2, \"sodium\": 160, \"fiber\": 5.0, \"carbo\": 12.0, \"sugars\": 10, \"potass\": 200, \"vitamins\": 25, \"shelf\": 3, \"weight\": 1.25, \"cups\": 0.67, \"rating\": 40.917047, \"mfr_name\": \"Post\"}, {\"name\": \"Fruitful Bran\", \"mfr\": \"K\", \"type\": \"C\", \"calories\": 120, \"protein\": 3, \"fat\": 0, \"sodium\": 240, \"fiber\": 5.0, \"carbo\": 14.0, \"sugars\": 12, \"potass\": 190, \"vitamins\": 25, \"shelf\": 3, \"weight\": 1.33, \"cups\": 0.67, \"rating\": 41.015492, \"mfr_name\": \"Kelloggs\"}, {\"name\": \"Fruity Pebbles\", \"mfr\": \"P\", \"type\": \"C\", \"calories\": 110, \"protein\": 1, \"fat\": 1, \"sodium\": 135, \"fiber\": 0.0, \"carbo\": 13.0, \"sugars\": 12, \"potass\": 25, \"vitamins\": 25, \"shelf\": 2, \"weight\": 1.0, \"cups\": 0.75, \"rating\": 28.025765000000003, \"mfr_name\": \"Post\"}, {\"name\": \"Golden Crisp\", \"mfr\": \"P\", \"type\": \"C\", \"calories\": 100, \"protein\": 2, \"fat\": 0, \"sodium\": 45, \"fiber\": 0.0, \"carbo\": 11.0, \"sugars\": 15, \"potass\": 40, \"vitamins\": 25, \"shelf\": 1, \"weight\": 1.0, \"cups\": 0.88, \"rating\": 35.252444, \"mfr_name\": \"Post\"}, {\"name\": \"Golden Grahams\", \"mfr\": \"G\", \"type\": \"C\", \"calories\": 110, \"protein\": 1, \"fat\": 1, \"sodium\": 280, \"fiber\": 0.0, \"carbo\": 15.0, \"sugars\": 9, \"potass\": 45, \"vitamins\": 25, \"shelf\": 2, \"weight\": 1.0, \"cups\": 0.75, \"rating\": 23.804043, \"mfr_name\": \"General Mills\"}, {\"name\": \"Grape Nuts Flakes\", \"mfr\": \"P\", \"type\": \"C\", \"calories\": 100, \"protein\": 3, \"fat\": 1, \"sodium\": 140, \"fiber\": 3.0, \"carbo\": 15.0, \"sugars\": 5, \"potass\": 85, \"vitamins\": 25, \"shelf\": 3, \"weight\": 1.0, \"cups\": 0.88, \"rating\": 52.076896999999995, \"mfr_name\": \"Post\"}, {\"name\": \"Grape-Nuts\", \"mfr\": \"P\", \"type\": \"C\", \"calories\": 110, \"protein\": 3, \"fat\": 0, \"sodium\": 170, \"fiber\": 3.0, \"carbo\": 17.0, \"sugars\": 3, \"potass\": 90, \"vitamins\": 25, \"shelf\": 3, \"weight\": 1.0, \"cups\": 0.25, \"rating\": 53.37100699999999, \"mfr_name\": \"Post\"}, {\"name\": \"Great Grains Pecan\", \"mfr\": \"P\", \"type\": \"C\", \"calories\": 120, \"protein\": 3, \"fat\": 3, \"sodium\": 75, \"fiber\": 3.0, \"carbo\": 13.0, \"sugars\": 4, \"potass\": 100, \"vitamins\": 25, \"shelf\": 3, \"weight\": 1.0, \"cups\": 0.33, \"rating\": 45.811716, \"mfr_name\": \"Post\"}, {\"name\": \"Honey Graham Ohs\", \"mfr\": \"Q\", \"type\": \"C\", \"calories\": 120, \"protein\": 1, \"fat\": 2, \"sodium\": 220, \"fiber\": 1.0, \"carbo\": 12.0, \"sugars\": 11, \"potass\": 45, \"vitamins\": 25, \"shelf\": 2, \"weight\": 1.0, \"cups\": 1.0, \"rating\": 21.871292, \"mfr_name\": \"Quaker Oats\"}, {\"name\": \"Honey Nut Cheerios\", \"mfr\": \"G\", \"type\": \"C\", \"calories\": 110, \"protein\": 3, \"fat\": 1, \"sodium\": 250, \"fiber\": 1.5, \"carbo\": 11.5, \"sugars\": 10, \"potass\": 90, \"vitamins\": 25, \"shelf\": 1, \"weight\": 1.0, \"cups\": 0.75, \"rating\": 31.072217, \"mfr_name\": \"General Mills\"}, {\"name\": \"Honey-comb\", \"mfr\": \"P\", \"type\": \"C\", \"calories\": 110, \"protein\": 1, \"fat\": 0, \"sodium\": 180, \"fiber\": 0.0, \"carbo\": 14.0, \"sugars\": 11, \"potass\": 35, \"vitamins\": 25, \"shelf\": 1, \"weight\": 1.0, \"cups\": 1.33, \"rating\": 28.742414, \"mfr_name\": \"Post\"}, {\"name\": \"Just Right Crunchy  Nuggets\", \"mfr\": \"K\", \"type\": \"C\", \"calories\": 110, \"protein\": 2, \"fat\": 1, \"sodium\": 170, \"fiber\": 1.0, \"carbo\": 17.0, \"sugars\": 6, \"potass\": 60, \"vitamins\": 100, \"shelf\": 3, \"weight\": 1.0, \"cups\": 1.0, \"rating\": 36.523683, \"mfr_name\": \"Kelloggs\"}, {\"name\": \"Just Right Fruit & Nut\", \"mfr\": \"K\", \"type\": \"C\", \"calories\": 140, \"protein\": 3, \"fat\": 1, \"sodium\": 170, \"fiber\": 2.0, \"carbo\": 20.0, \"sugars\": 9, \"potass\": 95, \"vitamins\": 100, \"shelf\": 3, \"weight\": 1.3, \"cups\": 0.75, \"rating\": 36.471512, \"mfr_name\": \"Kelloggs\"}, {\"name\": \"Kix\", \"mfr\": \"G\", \"type\": \"C\", \"calories\": 110, \"protein\": 2, \"fat\": 1, \"sodium\": 260, \"fiber\": 0.0, \"carbo\": 21.0, \"sugars\": 3, \"potass\": 40, \"vitamins\": 25, \"shelf\": 2, \"weight\": 1.0, \"cups\": 1.5, \"rating\": 39.241114, \"mfr_name\": \"General Mills\"}, {\"name\": \"Life\", \"mfr\": \"Q\", \"type\": \"C\", \"calories\": 100, \"protein\": 4, \"fat\": 2, \"sodium\": 150, \"fiber\": 2.0, \"carbo\": 12.0, \"sugars\": 6, \"potass\": 95, \"vitamins\": 25, \"shelf\": 2, \"weight\": 1.0, \"cups\": 0.67, \"rating\": 45.328074, \"mfr_name\": \"Quaker Oats\"}, {\"name\": \"Lucky Charms\", \"mfr\": \"G\", \"type\": \"C\", \"calories\": 110, \"protein\": 2, \"fat\": 1, \"sodium\": 180, \"fiber\": 0.0, \"carbo\": 12.0, \"sugars\": 12, \"potass\": 55, \"vitamins\": 25, \"shelf\": 2, \"weight\": 1.0, \"cups\": 1.0, \"rating\": 26.734515000000002, \"mfr_name\": \"General Mills\"}, {\"name\": \"Maypo\", \"mfr\": \"A\", \"type\": \"H\", \"calories\": 100, \"protein\": 4, \"fat\": 1, \"sodium\": 0, \"fiber\": 0.0, \"carbo\": 16.0, \"sugars\": 3, \"potass\": 95, \"vitamins\": 25, \"shelf\": 2, \"weight\": 1.0, \"cups\": 1.0, \"rating\": 54.850917, \"mfr_name\": \"American Home Food Products\"}, {\"name\": \"Muesli Raisins; Dates; & Almonds\", \"mfr\": \"R\", \"type\": \"C\", \"calories\": 150, \"protein\": 4, \"fat\": 3, \"sodium\": 95, \"fiber\": 3.0, \"carbo\": 16.0, \"sugars\": 11, \"potass\": 170, \"vitamins\": 25, \"shelf\": 3, \"weight\": 1.0, \"cups\": 1.0, \"rating\": 37.136863, \"mfr_name\": \"Ralston Purina\"}, {\"name\": \"Muesli Raisins; Peaches; & Pecans\", \"mfr\": \"R\", \"type\": \"C\", \"calories\": 150, \"protein\": 4, \"fat\": 3, \"sodium\": 150, \"fiber\": 3.0, \"carbo\": 16.0, \"sugars\": 11, \"potass\": 170, \"vitamins\": 25, \"shelf\": 3, \"weight\": 1.0, \"cups\": 1.0, \"rating\": 34.139765000000004, \"mfr_name\": \"Ralston Purina\"}, {\"name\": \"Mueslix Crispy Blend\", \"mfr\": \"K\", \"type\": \"C\", \"calories\": 160, \"protein\": 3, \"fat\": 2, \"sodium\": 150, \"fiber\": 3.0, \"carbo\": 17.0, \"sugars\": 13, \"potass\": 160, \"vitamins\": 25, \"shelf\": 3, \"weight\": 1.5, \"cups\": 0.67, \"rating\": 30.313351, \"mfr_name\": \"Kelloggs\"}, {\"name\": \"Multi-Grain Cheerios\", \"mfr\": \"G\", \"type\": \"C\", \"calories\": 100, \"protein\": 2, \"fat\": 1, \"sodium\": 220, \"fiber\": 2.0, \"carbo\": 15.0, \"sugars\": 6, \"potass\": 90, \"vitamins\": 25, \"shelf\": 1, \"weight\": 1.0, \"cups\": 1.0, \"rating\": 40.105965000000005, \"mfr_name\": \"General Mills\"}, {\"name\": \"Nut&Honey Crunch\", \"mfr\": \"K\", \"type\": \"C\", \"calories\": 120, \"protein\": 2, \"fat\": 1, \"sodium\": 190, \"fiber\": 0.0, \"carbo\": 15.0, \"sugars\": 9, \"potass\": 40, \"vitamins\": 25, \"shelf\": 2, \"weight\": 1.0, \"cups\": 0.67, \"rating\": 29.924284999999998, \"mfr_name\": \"Kelloggs\"}, {\"name\": \"Nutri-Grain Almond-Raisin\", \"mfr\": \"K\", \"type\": \"C\", \"calories\": 140, \"protein\": 3, \"fat\": 2, \"sodium\": 220, \"fiber\": 3.0, \"carbo\": 21.0, \"sugars\": 7, \"potass\": 130, \"vitamins\": 25, \"shelf\": 3, \"weight\": 1.33, \"cups\": 0.67, \"rating\": 40.69232, \"mfr_name\": \"Kelloggs\"}, {\"name\": \"Nutri-grain Wheat\", \"mfr\": \"K\", \"type\": \"C\", \"calories\": 90, \"protein\": 3, \"fat\": 0, \"sodium\": 170, \"fiber\": 3.0, \"carbo\": 18.0, \"sugars\": 2, \"potass\": 90, \"vitamins\": 25, \"shelf\": 3, \"weight\": 1.0, \"cups\": 1.0, \"rating\": 59.642837, \"mfr_name\": \"Kelloggs\"}, {\"name\": \"Oatmeal Raisin Crisp\", \"mfr\": \"G\", \"type\": \"C\", \"calories\": 130, \"protein\": 3, \"fat\": 2, \"sodium\": 170, \"fiber\": 1.5, \"carbo\": 13.5, \"sugars\": 10, \"potass\": 120, \"vitamins\": 25, \"shelf\": 3, \"weight\": 1.25, \"cups\": 0.5, \"rating\": 30.450843, \"mfr_name\": \"General Mills\"}, {\"name\": \"Post Nat. Raisin Bran\", \"mfr\": \"P\", \"type\": \"C\", \"calories\": 120, \"protein\": 3, \"fat\": 1, \"sodium\": 200, \"fiber\": 6.0, \"carbo\": 11.0, \"sugars\": 14, \"potass\": 260, \"vitamins\": 25, \"shelf\": 3, \"weight\": 1.33, \"cups\": 0.67, \"rating\": 37.840594, \"mfr_name\": \"Post\"}, {\"name\": \"Product 19\", \"mfr\": \"K\", \"type\": \"C\", \"calories\": 100, \"protein\": 3, \"fat\": 0, \"sodium\": 320, \"fiber\": 1.0, \"carbo\": 20.0, \"sugars\": 3, \"potass\": 45, \"vitamins\": 100, \"shelf\": 3, \"weight\": 1.0, \"cups\": 1.0, \"rating\": 41.50354, \"mfr_name\": \"Kelloggs\"}, {\"name\": \"Puffed Rice\", \"mfr\": \"Q\", \"type\": \"C\", \"calories\": 50, \"protein\": 1, \"fat\": 0, \"sodium\": 0, \"fiber\": 0.0, \"carbo\": 13.0, \"sugars\": 0, \"potass\": 15, \"vitamins\": 0, \"shelf\": 3, \"weight\": 0.5, \"cups\": 1.0, \"rating\": 60.756112, \"mfr_name\": \"Quaker Oats\"}, {\"name\": \"Puffed Wheat\", \"mfr\": \"Q\", \"type\": \"C\", \"calories\": 50, \"protein\": 2, \"fat\": 0, \"sodium\": 0, \"fiber\": 1.0, \"carbo\": 10.0, \"sugars\": 0, \"potass\": 50, \"vitamins\": 0, \"shelf\": 3, \"weight\": 0.5, \"cups\": 1.0, \"rating\": 63.005644999999994, \"mfr_name\": \"Quaker Oats\"}, {\"name\": \"Quaker Oat Squares\", \"mfr\": \"Q\", \"type\": \"C\", \"calories\": 100, \"protein\": 4, \"fat\": 1, \"sodium\": 135, \"fiber\": 2.0, \"carbo\": 14.0, \"sugars\": 6, \"potass\": 110, \"vitamins\": 25, \"shelf\": 3, \"weight\": 1.0, \"cups\": 0.5, \"rating\": 49.511874, \"mfr_name\": \"Quaker Oats\"}, {\"name\": \"Quaker Oatmeal\", \"mfr\": \"Q\", \"type\": \"H\", \"calories\": 100, \"protein\": 5, \"fat\": 2, \"sodium\": 0, \"fiber\": 2.7, \"carbo\": -1.0, \"sugars\": -1, \"potass\": 110, \"vitamins\": 0, \"shelf\": 1, \"weight\": 1.0, \"cups\": 0.67, \"rating\": 50.828392, \"mfr_name\": \"Quaker Oats\"}, {\"name\": \"Raisin Bran\", \"mfr\": \"K\", \"type\": \"C\", \"calories\": 120, \"protein\": 3, \"fat\": 1, \"sodium\": 210, \"fiber\": 5.0, \"carbo\": 14.0, \"sugars\": 12, \"potass\": 240, \"vitamins\": 25, \"shelf\": 2, \"weight\": 1.33, \"cups\": 0.75, \"rating\": 39.259197, \"mfr_name\": \"Kelloggs\"}, {\"name\": \"Raisin Nut Bran\", \"mfr\": \"G\", \"type\": \"C\", \"calories\": 100, \"protein\": 3, \"fat\": 2, \"sodium\": 140, \"fiber\": 2.5, \"carbo\": 10.5, \"sugars\": 8, \"potass\": 140, \"vitamins\": 25, \"shelf\": 3, \"weight\": 1.0, \"cups\": 0.5, \"rating\": 39.7034, \"mfr_name\": \"General Mills\"}, {\"name\": \"Raisin Squares\", \"mfr\": \"K\", \"type\": \"C\", \"calories\": 90, \"protein\": 2, \"fat\": 0, \"sodium\": 0, \"fiber\": 2.0, \"carbo\": 15.0, \"sugars\": 6, \"potass\": 110, \"vitamins\": 25, \"shelf\": 3, \"weight\": 1.0, \"cups\": 0.5, \"rating\": 55.333142, \"mfr_name\": \"Kelloggs\"}, {\"name\": \"Rice Chex\", \"mfr\": \"R\", \"type\": \"C\", \"calories\": 110, \"protein\": 1, \"fat\": 0, \"sodium\": 240, \"fiber\": 0.0, \"carbo\": 23.0, \"sugars\": 2, \"potass\": 30, \"vitamins\": 25, \"shelf\": 1, \"weight\": 1.0, \"cups\": 1.13, \"rating\": 41.998933, \"mfr_name\": \"Ralston Purina\"}, {\"name\": \"Rice Krispies\", \"mfr\": \"K\", \"type\": \"C\", \"calories\": 110, \"protein\": 2, \"fat\": 0, \"sodium\": 290, \"fiber\": 0.0, \"carbo\": 22.0, \"sugars\": 3, \"potass\": 35, \"vitamins\": 25, \"shelf\": 1, \"weight\": 1.0, \"cups\": 1.0, \"rating\": 40.560159000000006, \"mfr_name\": \"Kelloggs\"}, {\"name\": \"Shredded Wheat\", \"mfr\": \"N\", \"type\": \"C\", \"calories\": 80, \"protein\": 2, \"fat\": 0, \"sodium\": 0, \"fiber\": 3.0, \"carbo\": 16.0, \"sugars\": 0, \"potass\": 95, \"vitamins\": 0, \"shelf\": 1, \"weight\": 0.83, \"cups\": 1.0, \"rating\": 68.235885, \"mfr_name\": \"Nabisco\"}, {\"name\": \"Shredded Wheat 'n'Bran\", \"mfr\": \"N\", \"type\": \"C\", \"calories\": 90, \"protein\": 3, \"fat\": 0, \"sodium\": 0, \"fiber\": 4.0, \"carbo\": 19.0, \"sugars\": 0, \"potass\": 140, \"vitamins\": 0, \"shelf\": 1, \"weight\": 1.0, \"cups\": 0.67, \"rating\": 74.472949, \"mfr_name\": \"Nabisco\"}, {\"name\": \"Shredded Wheat spoon size\", \"mfr\": \"N\", \"type\": \"C\", \"calories\": 90, \"protein\": 3, \"fat\": 0, \"sodium\": 0, \"fiber\": 3.0, \"carbo\": 20.0, \"sugars\": 0, \"potass\": 120, \"vitamins\": 0, \"shelf\": 1, \"weight\": 1.0, \"cups\": 0.67, \"rating\": 72.801787, \"mfr_name\": \"Nabisco\"}, {\"name\": \"Smacks\", \"mfr\": \"K\", \"type\": \"C\", \"calories\": 110, \"protein\": 2, \"fat\": 1, \"sodium\": 70, \"fiber\": 1.0, \"carbo\": 9.0, \"sugars\": 15, \"potass\": 40, \"vitamins\": 25, \"shelf\": 2, \"weight\": 1.0, \"cups\": 0.75, \"rating\": 31.230054, \"mfr_name\": \"Kelloggs\"}, {\"name\": \"Special K\", \"mfr\": \"K\", \"type\": \"C\", \"calories\": 110, \"protein\": 6, \"fat\": 0, \"sodium\": 230, \"fiber\": 1.0, \"carbo\": 16.0, \"sugars\": 3, \"potass\": 55, \"vitamins\": 25, \"shelf\": 1, \"weight\": 1.0, \"cups\": 1.0, \"rating\": 53.131324, \"mfr_name\": \"Kelloggs\"}, {\"name\": \"Strawberry Fruit Wheats\", \"mfr\": \"N\", \"type\": \"C\", \"calories\": 90, \"protein\": 2, \"fat\": 0, \"sodium\": 15, \"fiber\": 3.0, \"carbo\": 15.0, \"sugars\": 5, \"potass\": 90, \"vitamins\": 25, \"shelf\": 2, \"weight\": 1.0, \"cups\": 1.0, \"rating\": 59.36399300000001, \"mfr_name\": \"Nabisco\"}, {\"name\": \"Total Corn Flakes\", \"mfr\": \"G\", \"type\": \"C\", \"calories\": 110, \"protein\": 2, \"fat\": 1, \"sodium\": 200, \"fiber\": 0.0, \"carbo\": 21.0, \"sugars\": 3, \"potass\": 35, \"vitamins\": 100, \"shelf\": 3, \"weight\": 1.0, \"cups\": 1.0, \"rating\": 38.839746000000005, \"mfr_name\": \"General Mills\"}, {\"name\": \"Total Raisin Bran\", \"mfr\": \"G\", \"type\": \"C\", \"calories\": 140, \"protein\": 3, \"fat\": 1, \"sodium\": 190, \"fiber\": 4.0, \"carbo\": 15.0, \"sugars\": 14, \"potass\": 230, \"vitamins\": 100, \"shelf\": 3, \"weight\": 1.5, \"cups\": 1.0, \"rating\": 28.592785, \"mfr_name\": \"General Mills\"}, {\"name\": \"Total Whole Grain\", \"mfr\": \"G\", \"type\": \"C\", \"calories\": 100, \"protein\": 3, \"fat\": 1, \"sodium\": 200, \"fiber\": 3.0, \"carbo\": 16.0, \"sugars\": 3, \"potass\": 110, \"vitamins\": 100, \"shelf\": 3, \"weight\": 1.0, \"cups\": 1.0, \"rating\": 46.658844, \"mfr_name\": \"General Mills\"}, {\"name\": \"Triples\", \"mfr\": \"G\", \"type\": \"C\", \"calories\": 110, \"protein\": 2, \"fat\": 1, \"sodium\": 250, \"fiber\": 0.0, \"carbo\": 21.0, \"sugars\": 3, \"potass\": 60, \"vitamins\": 25, \"shelf\": 3, \"weight\": 1.0, \"cups\": 0.75, \"rating\": 39.106173999999996, \"mfr_name\": \"General Mills\"}, {\"name\": \"Trix\", \"mfr\": \"G\", \"type\": \"C\", \"calories\": 110, \"protein\": 1, \"fat\": 1, \"sodium\": 140, \"fiber\": 0.0, \"carbo\": 13.0, \"sugars\": 12, \"potass\": 25, \"vitamins\": 25, \"shelf\": 2, \"weight\": 1.0, \"cups\": 1.0, \"rating\": 27.753301, \"mfr_name\": \"General Mills\"}, {\"name\": \"Wheat Chex\", \"mfr\": \"R\", \"type\": \"C\", \"calories\": 100, \"protein\": 3, \"fat\": 1, \"sodium\": 230, \"fiber\": 3.0, \"carbo\": 17.0, \"sugars\": 3, \"potass\": 115, \"vitamins\": 25, \"shelf\": 1, \"weight\": 1.0, \"cups\": 0.67, \"rating\": 49.787445, \"mfr_name\": \"Ralston Purina\"}, {\"name\": \"Wheaties\", \"mfr\": \"G\", \"type\": \"C\", \"calories\": 100, \"protein\": 3, \"fat\": 1, \"sodium\": 200, \"fiber\": 3.0, \"carbo\": 17.0, \"sugars\": 3, \"potass\": 110, \"vitamins\": 25, \"shelf\": 1, \"weight\": 1.0, \"cups\": 1.0, \"rating\": 51.592193, \"mfr_name\": \"General Mills\"}, {\"name\": \"Wheaties Honey Gold\", \"mfr\": \"G\", \"type\": \"C\", \"calories\": 110, \"protein\": 2, \"fat\": 1, \"sodium\": 200, \"fiber\": 1.0, \"carbo\": 16.0, \"sugars\": 8, \"potass\": 60, \"vitamins\": 25, \"shelf\": 1, \"weight\": 1.0, \"cups\": 0.75, \"rating\": 36.187559, \"mfr_name\": \"General Mills\"}]}}, {\"mode\": \"vega-lite\"});\n",
              "</script>"
            ]
          },
          "metadata": {
            "tags": []
          },
          "execution_count": 10
        }
      ]
    },
    {
      "cell_type": "code",
      "metadata": {
        "id": "IgxtNrijLIGb",
        "outputId": "721a6731-7a26-427d-e7ef-a34864204a03",
        "colab": {
          "base_uri": "https://localhost:8080/",
          "height": 515
        }
      },
      "source": [
        "# Now here's the boxchart\n",
        "alt.Chart(cereal).mark_boxplot(size=50).encode(\n",
        "    alt.X('mfr_name', title='Manufacturer'),\n",
        "    alt.Y('sugars', title='Sugar (grams)'),\n",
        "    color=alt.Color('mfr', legend=None)\n",
        ").properties(\n",
        "    width=600,\n",
        "    title = 'Sugar content of cereal brands'\n",
        ")"
      ],
      "execution_count": 11,
      "outputs": [
        {
          "output_type": "execute_result",
          "data": {
            "text/plain": [
              "alt.Chart(...)"
            ],
            "text/html": [
              "\n",
              "<div id=\"altair-viz-e901b5178c1046858603ba85b052868a\"></div>\n",
              "<script type=\"text/javascript\">\n",
              "  (function(spec, embedOpt){\n",
              "    let outputDiv = document.currentScript.previousElementSibling;\n",
              "    if (outputDiv.id !== \"altair-viz-e901b5178c1046858603ba85b052868a\") {\n",
              "      outputDiv = document.getElementById(\"altair-viz-e901b5178c1046858603ba85b052868a\");\n",
              "    }\n",
              "    const paths = {\n",
              "      \"vega\": \"https://cdn.jsdelivr.net/npm//vega@5?noext\",\n",
              "      \"vega-lib\": \"https://cdn.jsdelivr.net/npm//vega-lib?noext\",\n",
              "      \"vega-lite\": \"https://cdn.jsdelivr.net/npm//vega-lite@4.8.1?noext\",\n",
              "      \"vega-embed\": \"https://cdn.jsdelivr.net/npm//vega-embed@6?noext\",\n",
              "    };\n",
              "\n",
              "    function loadScript(lib) {\n",
              "      return new Promise(function(resolve, reject) {\n",
              "        var s = document.createElement('script');\n",
              "        s.src = paths[lib];\n",
              "        s.async = true;\n",
              "        s.onload = () => resolve(paths[lib]);\n",
              "        s.onerror = () => reject(`Error loading script: ${paths[lib]}`);\n",
              "        document.getElementsByTagName(\"head\")[0].appendChild(s);\n",
              "      });\n",
              "    }\n",
              "\n",
              "    function showError(err) {\n",
              "      outputDiv.innerHTML = `<div class=\"error\" style=\"color:red;\">${err}</div>`;\n",
              "      throw err;\n",
              "    }\n",
              "\n",
              "    function displayChart(vegaEmbed) {\n",
              "      vegaEmbed(outputDiv, spec, embedOpt)\n",
              "        .catch(err => showError(`Javascript Error: ${err.message}<br>This usually means there's a typo in your chart specification. See the javascript console for the full traceback.`));\n",
              "    }\n",
              "\n",
              "    if(typeof define === \"function\" && define.amd) {\n",
              "      requirejs.config({paths});\n",
              "      require([\"vega-embed\"], displayChart, err => showError(`Error loading script: ${err.message}`));\n",
              "    } else if (typeof vegaEmbed === \"function\") {\n",
              "      displayChart(vegaEmbed);\n",
              "    } else {\n",
              "      loadScript(\"vega\")\n",
              "        .then(() => loadScript(\"vega-lite\"))\n",
              "        .then(() => loadScript(\"vega-embed\"))\n",
              "        .catch(showError)\n",
              "        .then(() => displayChart(vegaEmbed));\n",
              "    }\n",
              "  })({\"config\": {\"view\": {\"continuousWidth\": 400, \"continuousHeight\": 300}}, \"data\": {\"name\": \"data-e3fa4752c4cbe075d20fd5dc066bc5a9\"}, \"mark\": {\"type\": \"boxplot\", \"size\": 50}, \"encoding\": {\"color\": {\"type\": \"nominal\", \"field\": \"mfr\", \"legend\": null}, \"x\": {\"type\": \"nominal\", \"field\": \"mfr_name\", \"title\": \"Manufacturer\"}, \"y\": {\"type\": \"quantitative\", \"field\": \"sugars\", \"title\": \"Sugar (grams)\"}}, \"title\": \"Sugar content of cereal brands\", \"width\": 600, \"$schema\": \"https://vega.github.io/schema/vega-lite/v4.8.1.json\", \"datasets\": {\"data-e3fa4752c4cbe075d20fd5dc066bc5a9\": [{\"name\": \"100% Bran\", \"mfr\": \"N\", \"type\": \"C\", \"calories\": 70, \"protein\": 4, \"fat\": 1, \"sodium\": 130, \"fiber\": 10.0, \"carbo\": 5.0, \"sugars\": 6, \"potass\": 280, \"vitamins\": 25, \"shelf\": 3, \"weight\": 1.0, \"cups\": 0.33, \"rating\": 68.402973, \"mfr_name\": \"Nabisco\"}, {\"name\": \"100% Natural Bran\", \"mfr\": \"Q\", \"type\": \"C\", \"calories\": 120, \"protein\": 3, \"fat\": 5, \"sodium\": 15, \"fiber\": 2.0, \"carbo\": 8.0, \"sugars\": 8, \"potass\": 135, \"vitamins\": 0, \"shelf\": 3, \"weight\": 1.0, \"cups\": 1.0, \"rating\": 33.983678999999995, \"mfr_name\": \"Quaker Oats\"}, {\"name\": \"All-Bran\", \"mfr\": \"K\", \"type\": \"C\", \"calories\": 70, \"protein\": 4, \"fat\": 1, \"sodium\": 260, \"fiber\": 9.0, \"carbo\": 7.0, \"sugars\": 5, \"potass\": 320, \"vitamins\": 25, \"shelf\": 3, \"weight\": 1.0, \"cups\": 0.33, \"rating\": 59.425505, \"mfr_name\": \"Kelloggs\"}, {\"name\": \"All-Bran with Extra Fiber\", \"mfr\": \"K\", \"type\": \"C\", \"calories\": 50, \"protein\": 4, \"fat\": 0, \"sodium\": 140, \"fiber\": 14.0, \"carbo\": 8.0, \"sugars\": 0, \"potass\": 330, \"vitamins\": 25, \"shelf\": 3, \"weight\": 1.0, \"cups\": 0.5, \"rating\": 93.704912, \"mfr_name\": \"Kelloggs\"}, {\"name\": \"Almond Delight\", \"mfr\": \"R\", \"type\": \"C\", \"calories\": 110, \"protein\": 2, \"fat\": 2, \"sodium\": 200, \"fiber\": 1.0, \"carbo\": 14.0, \"sugars\": 8, \"potass\": -1, \"vitamins\": 25, \"shelf\": 3, \"weight\": 1.0, \"cups\": 0.75, \"rating\": 34.384843, \"mfr_name\": \"Ralston Purina\"}, {\"name\": \"Apple Cinnamon Cheerios\", \"mfr\": \"G\", \"type\": \"C\", \"calories\": 110, \"protein\": 2, \"fat\": 2, \"sodium\": 180, \"fiber\": 1.5, \"carbo\": 10.5, \"sugars\": 10, \"potass\": 70, \"vitamins\": 25, \"shelf\": 1, \"weight\": 1.0, \"cups\": 0.75, \"rating\": 29.509541, \"mfr_name\": \"General Mills\"}, {\"name\": \"Apple Jacks\", \"mfr\": \"K\", \"type\": \"C\", \"calories\": 110, \"protein\": 2, \"fat\": 0, \"sodium\": 125, \"fiber\": 1.0, \"carbo\": 11.0, \"sugars\": 14, \"potass\": 30, \"vitamins\": 25, \"shelf\": 2, \"weight\": 1.0, \"cups\": 1.0, \"rating\": 33.174094000000004, \"mfr_name\": \"Kelloggs\"}, {\"name\": \"Basic 4\", \"mfr\": \"G\", \"type\": \"C\", \"calories\": 130, \"protein\": 3, \"fat\": 2, \"sodium\": 210, \"fiber\": 2.0, \"carbo\": 18.0, \"sugars\": 8, \"potass\": 100, \"vitamins\": 25, \"shelf\": 3, \"weight\": 1.33, \"cups\": 0.75, \"rating\": 37.038562, \"mfr_name\": \"General Mills\"}, {\"name\": \"Bran Chex\", \"mfr\": \"R\", \"type\": \"C\", \"calories\": 90, \"protein\": 2, \"fat\": 1, \"sodium\": 200, \"fiber\": 4.0, \"carbo\": 15.0, \"sugars\": 6, \"potass\": 125, \"vitamins\": 25, \"shelf\": 1, \"weight\": 1.0, \"cups\": 0.67, \"rating\": 49.120253000000005, \"mfr_name\": \"Ralston Purina\"}, {\"name\": \"Bran Flakes\", \"mfr\": \"P\", \"type\": \"C\", \"calories\": 90, \"protein\": 3, \"fat\": 0, \"sodium\": 210, \"fiber\": 5.0, \"carbo\": 13.0, \"sugars\": 5, \"potass\": 190, \"vitamins\": 25, \"shelf\": 3, \"weight\": 1.0, \"cups\": 0.67, \"rating\": 53.313813, \"mfr_name\": \"Post\"}, {\"name\": \"Cap'n'Crunch\", \"mfr\": \"Q\", \"type\": \"C\", \"calories\": 120, \"protein\": 1, \"fat\": 2, \"sodium\": 220, \"fiber\": 0.0, \"carbo\": 12.0, \"sugars\": 12, \"potass\": 35, \"vitamins\": 25, \"shelf\": 2, \"weight\": 1.0, \"cups\": 0.75, \"rating\": 18.042851000000002, \"mfr_name\": \"Quaker Oats\"}, {\"name\": \"Cheerios\", \"mfr\": \"G\", \"type\": \"C\", \"calories\": 110, \"protein\": 6, \"fat\": 2, \"sodium\": 290, \"fiber\": 2.0, \"carbo\": 17.0, \"sugars\": 1, \"potass\": 105, \"vitamins\": 25, \"shelf\": 1, \"weight\": 1.0, \"cups\": 1.25, \"rating\": 50.764998999999996, \"mfr_name\": \"General Mills\"}, {\"name\": \"Cinnamon Toast Crunch\", \"mfr\": \"G\", \"type\": \"C\", \"calories\": 120, \"protein\": 1, \"fat\": 3, \"sodium\": 210, \"fiber\": 0.0, \"carbo\": 13.0, \"sugars\": 9, \"potass\": 45, \"vitamins\": 25, \"shelf\": 2, \"weight\": 1.0, \"cups\": 0.75, \"rating\": 19.823573, \"mfr_name\": \"General Mills\"}, {\"name\": \"Clusters\", \"mfr\": \"G\", \"type\": \"C\", \"calories\": 110, \"protein\": 3, \"fat\": 2, \"sodium\": 140, \"fiber\": 2.0, \"carbo\": 13.0, \"sugars\": 7, \"potass\": 105, \"vitamins\": 25, \"shelf\": 3, \"weight\": 1.0, \"cups\": 0.5, \"rating\": 40.400208, \"mfr_name\": \"General Mills\"}, {\"name\": \"Cocoa Puffs\", \"mfr\": \"G\", \"type\": \"C\", \"calories\": 110, \"protein\": 1, \"fat\": 1, \"sodium\": 180, \"fiber\": 0.0, \"carbo\": 12.0, \"sugars\": 13, \"potass\": 55, \"vitamins\": 25, \"shelf\": 2, \"weight\": 1.0, \"cups\": 1.0, \"rating\": 22.736446, \"mfr_name\": \"General Mills\"}, {\"name\": \"Corn Chex\", \"mfr\": \"R\", \"type\": \"C\", \"calories\": 110, \"protein\": 2, \"fat\": 0, \"sodium\": 280, \"fiber\": 0.0, \"carbo\": 22.0, \"sugars\": 3, \"potass\": 25, \"vitamins\": 25, \"shelf\": 1, \"weight\": 1.0, \"cups\": 1.0, \"rating\": 41.445019, \"mfr_name\": \"Ralston Purina\"}, {\"name\": \"Corn Flakes\", \"mfr\": \"K\", \"type\": \"C\", \"calories\": 100, \"protein\": 2, \"fat\": 0, \"sodium\": 290, \"fiber\": 1.0, \"carbo\": 21.0, \"sugars\": 2, \"potass\": 35, \"vitamins\": 25, \"shelf\": 1, \"weight\": 1.0, \"cups\": 1.0, \"rating\": 45.863324, \"mfr_name\": \"Kelloggs\"}, {\"name\": \"Corn Pops\", \"mfr\": \"K\", \"type\": \"C\", \"calories\": 110, \"protein\": 1, \"fat\": 0, \"sodium\": 90, \"fiber\": 1.0, \"carbo\": 13.0, \"sugars\": 12, \"potass\": 20, \"vitamins\": 25, \"shelf\": 2, \"weight\": 1.0, \"cups\": 1.0, \"rating\": 35.782790999999996, \"mfr_name\": \"Kelloggs\"}, {\"name\": \"Count Chocula\", \"mfr\": \"G\", \"type\": \"C\", \"calories\": 110, \"protein\": 1, \"fat\": 1, \"sodium\": 180, \"fiber\": 0.0, \"carbo\": 12.0, \"sugars\": 13, \"potass\": 65, \"vitamins\": 25, \"shelf\": 2, \"weight\": 1.0, \"cups\": 1.0, \"rating\": 22.396513, \"mfr_name\": \"General Mills\"}, {\"name\": \"Cracklin' Oat Bran\", \"mfr\": \"K\", \"type\": \"C\", \"calories\": 110, \"protein\": 3, \"fat\": 3, \"sodium\": 140, \"fiber\": 4.0, \"carbo\": 10.0, \"sugars\": 7, \"potass\": 160, \"vitamins\": 25, \"shelf\": 3, \"weight\": 1.0, \"cups\": 0.5, \"rating\": 40.448772, \"mfr_name\": \"Kelloggs\"}, {\"name\": \"Cream of Wheat (Quick)\", \"mfr\": \"N\", \"type\": \"H\", \"calories\": 100, \"protein\": 3, \"fat\": 0, \"sodium\": 80, \"fiber\": 1.0, \"carbo\": 21.0, \"sugars\": 0, \"potass\": -1, \"vitamins\": 0, \"shelf\": 2, \"weight\": 1.0, \"cups\": 1.0, \"rating\": 64.533816, \"mfr_name\": \"Nabisco\"}, {\"name\": \"Crispix\", \"mfr\": \"K\", \"type\": \"C\", \"calories\": 110, \"protein\": 2, \"fat\": 0, \"sodium\": 220, \"fiber\": 1.0, \"carbo\": 21.0, \"sugars\": 3, \"potass\": 30, \"vitamins\": 25, \"shelf\": 3, \"weight\": 1.0, \"cups\": 1.0, \"rating\": 46.895644, \"mfr_name\": \"Kelloggs\"}, {\"name\": \"Crispy Wheat & Raisins\", \"mfr\": \"G\", \"type\": \"C\", \"calories\": 100, \"protein\": 2, \"fat\": 1, \"sodium\": 140, \"fiber\": 2.0, \"carbo\": 11.0, \"sugars\": 10, \"potass\": 120, \"vitamins\": 25, \"shelf\": 3, \"weight\": 1.0, \"cups\": 0.75, \"rating\": 36.176196000000004, \"mfr_name\": \"General Mills\"}, {\"name\": \"Double Chex\", \"mfr\": \"R\", \"type\": \"C\", \"calories\": 100, \"protein\": 2, \"fat\": 0, \"sodium\": 190, \"fiber\": 1.0, \"carbo\": 18.0, \"sugars\": 5, \"potass\": 80, \"vitamins\": 25, \"shelf\": 3, \"weight\": 1.0, \"cups\": 0.75, \"rating\": 44.330856, \"mfr_name\": \"Ralston Purina\"}, {\"name\": \"Froot Loops\", \"mfr\": \"K\", \"type\": \"C\", \"calories\": 110, \"protein\": 2, \"fat\": 1, \"sodium\": 125, \"fiber\": 1.0, \"carbo\": 11.0, \"sugars\": 13, \"potass\": 30, \"vitamins\": 25, \"shelf\": 2, \"weight\": 1.0, \"cups\": 1.0, \"rating\": 32.207582, \"mfr_name\": \"Kelloggs\"}, {\"name\": \"Frosted Flakes\", \"mfr\": \"K\", \"type\": \"C\", \"calories\": 110, \"protein\": 1, \"fat\": 0, \"sodium\": 200, \"fiber\": 1.0, \"carbo\": 14.0, \"sugars\": 11, \"potass\": 25, \"vitamins\": 25, \"shelf\": 1, \"weight\": 1.0, \"cups\": 0.75, \"rating\": 31.435972999999997, \"mfr_name\": \"Kelloggs\"}, {\"name\": \"Frosted Mini-Wheats\", \"mfr\": \"K\", \"type\": \"C\", \"calories\": 100, \"protein\": 3, \"fat\": 0, \"sodium\": 0, \"fiber\": 3.0, \"carbo\": 14.0, \"sugars\": 7, \"potass\": 100, \"vitamins\": 25, \"shelf\": 2, \"weight\": 1.0, \"cups\": 0.8, \"rating\": 58.345141000000005, \"mfr_name\": \"Kelloggs\"}, {\"name\": \"Fruit & Fibre Dates; Walnuts; and Oats\", \"mfr\": \"P\", \"type\": \"C\", \"calories\": 120, \"protein\": 3, \"fat\": 2, \"sodium\": 160, \"fiber\": 5.0, \"carbo\": 12.0, \"sugars\": 10, \"potass\": 200, \"vitamins\": 25, \"shelf\": 3, \"weight\": 1.25, \"cups\": 0.67, \"rating\": 40.917047, \"mfr_name\": \"Post\"}, {\"name\": \"Fruitful Bran\", \"mfr\": \"K\", \"type\": \"C\", \"calories\": 120, \"protein\": 3, \"fat\": 0, \"sodium\": 240, \"fiber\": 5.0, \"carbo\": 14.0, \"sugars\": 12, \"potass\": 190, \"vitamins\": 25, \"shelf\": 3, \"weight\": 1.33, \"cups\": 0.67, \"rating\": 41.015492, \"mfr_name\": \"Kelloggs\"}, {\"name\": \"Fruity Pebbles\", \"mfr\": \"P\", \"type\": \"C\", \"calories\": 110, \"protein\": 1, \"fat\": 1, \"sodium\": 135, \"fiber\": 0.0, \"carbo\": 13.0, \"sugars\": 12, \"potass\": 25, \"vitamins\": 25, \"shelf\": 2, \"weight\": 1.0, \"cups\": 0.75, \"rating\": 28.025765000000003, \"mfr_name\": \"Post\"}, {\"name\": \"Golden Crisp\", \"mfr\": \"P\", \"type\": \"C\", \"calories\": 100, \"protein\": 2, \"fat\": 0, \"sodium\": 45, \"fiber\": 0.0, \"carbo\": 11.0, \"sugars\": 15, \"potass\": 40, \"vitamins\": 25, \"shelf\": 1, \"weight\": 1.0, \"cups\": 0.88, \"rating\": 35.252444, \"mfr_name\": \"Post\"}, {\"name\": \"Golden Grahams\", \"mfr\": \"G\", \"type\": \"C\", \"calories\": 110, \"protein\": 1, \"fat\": 1, \"sodium\": 280, \"fiber\": 0.0, \"carbo\": 15.0, \"sugars\": 9, \"potass\": 45, \"vitamins\": 25, \"shelf\": 2, \"weight\": 1.0, \"cups\": 0.75, \"rating\": 23.804043, \"mfr_name\": \"General Mills\"}, {\"name\": \"Grape Nuts Flakes\", \"mfr\": \"P\", \"type\": \"C\", \"calories\": 100, \"protein\": 3, \"fat\": 1, \"sodium\": 140, \"fiber\": 3.0, \"carbo\": 15.0, \"sugars\": 5, \"potass\": 85, \"vitamins\": 25, \"shelf\": 3, \"weight\": 1.0, \"cups\": 0.88, \"rating\": 52.076896999999995, \"mfr_name\": \"Post\"}, {\"name\": \"Grape-Nuts\", \"mfr\": \"P\", \"type\": \"C\", \"calories\": 110, \"protein\": 3, \"fat\": 0, \"sodium\": 170, \"fiber\": 3.0, \"carbo\": 17.0, \"sugars\": 3, \"potass\": 90, \"vitamins\": 25, \"shelf\": 3, \"weight\": 1.0, \"cups\": 0.25, \"rating\": 53.37100699999999, \"mfr_name\": \"Post\"}, {\"name\": \"Great Grains Pecan\", \"mfr\": \"P\", \"type\": \"C\", \"calories\": 120, \"protein\": 3, \"fat\": 3, \"sodium\": 75, \"fiber\": 3.0, \"carbo\": 13.0, \"sugars\": 4, \"potass\": 100, \"vitamins\": 25, \"shelf\": 3, \"weight\": 1.0, \"cups\": 0.33, \"rating\": 45.811716, \"mfr_name\": \"Post\"}, {\"name\": \"Honey Graham Ohs\", \"mfr\": \"Q\", \"type\": \"C\", \"calories\": 120, \"protein\": 1, \"fat\": 2, \"sodium\": 220, \"fiber\": 1.0, \"carbo\": 12.0, \"sugars\": 11, \"potass\": 45, \"vitamins\": 25, \"shelf\": 2, \"weight\": 1.0, \"cups\": 1.0, \"rating\": 21.871292, \"mfr_name\": \"Quaker Oats\"}, {\"name\": \"Honey Nut Cheerios\", \"mfr\": \"G\", \"type\": \"C\", \"calories\": 110, \"protein\": 3, \"fat\": 1, \"sodium\": 250, \"fiber\": 1.5, \"carbo\": 11.5, \"sugars\": 10, \"potass\": 90, \"vitamins\": 25, \"shelf\": 1, \"weight\": 1.0, \"cups\": 0.75, \"rating\": 31.072217, \"mfr_name\": \"General Mills\"}, {\"name\": \"Honey-comb\", \"mfr\": \"P\", \"type\": \"C\", \"calories\": 110, \"protein\": 1, \"fat\": 0, \"sodium\": 180, \"fiber\": 0.0, \"carbo\": 14.0, \"sugars\": 11, \"potass\": 35, \"vitamins\": 25, \"shelf\": 1, \"weight\": 1.0, \"cups\": 1.33, \"rating\": 28.742414, \"mfr_name\": \"Post\"}, {\"name\": \"Just Right Crunchy  Nuggets\", \"mfr\": \"K\", \"type\": \"C\", \"calories\": 110, \"protein\": 2, \"fat\": 1, \"sodium\": 170, \"fiber\": 1.0, \"carbo\": 17.0, \"sugars\": 6, \"potass\": 60, \"vitamins\": 100, \"shelf\": 3, \"weight\": 1.0, \"cups\": 1.0, \"rating\": 36.523683, \"mfr_name\": \"Kelloggs\"}, {\"name\": \"Just Right Fruit & Nut\", \"mfr\": \"K\", \"type\": \"C\", \"calories\": 140, \"protein\": 3, \"fat\": 1, \"sodium\": 170, \"fiber\": 2.0, \"carbo\": 20.0, \"sugars\": 9, \"potass\": 95, \"vitamins\": 100, \"shelf\": 3, \"weight\": 1.3, \"cups\": 0.75, \"rating\": 36.471512, \"mfr_name\": \"Kelloggs\"}, {\"name\": \"Kix\", \"mfr\": \"G\", \"type\": \"C\", \"calories\": 110, \"protein\": 2, \"fat\": 1, \"sodium\": 260, \"fiber\": 0.0, \"carbo\": 21.0, \"sugars\": 3, \"potass\": 40, \"vitamins\": 25, \"shelf\": 2, \"weight\": 1.0, \"cups\": 1.5, \"rating\": 39.241114, \"mfr_name\": \"General Mills\"}, {\"name\": \"Life\", \"mfr\": \"Q\", \"type\": \"C\", \"calories\": 100, \"protein\": 4, \"fat\": 2, \"sodium\": 150, \"fiber\": 2.0, \"carbo\": 12.0, \"sugars\": 6, \"potass\": 95, \"vitamins\": 25, \"shelf\": 2, \"weight\": 1.0, \"cups\": 0.67, \"rating\": 45.328074, \"mfr_name\": \"Quaker Oats\"}, {\"name\": \"Lucky Charms\", \"mfr\": \"G\", \"type\": \"C\", \"calories\": 110, \"protein\": 2, \"fat\": 1, \"sodium\": 180, \"fiber\": 0.0, \"carbo\": 12.0, \"sugars\": 12, \"potass\": 55, \"vitamins\": 25, \"shelf\": 2, \"weight\": 1.0, \"cups\": 1.0, \"rating\": 26.734515000000002, \"mfr_name\": \"General Mills\"}, {\"name\": \"Maypo\", \"mfr\": \"A\", \"type\": \"H\", \"calories\": 100, \"protein\": 4, \"fat\": 1, \"sodium\": 0, \"fiber\": 0.0, \"carbo\": 16.0, \"sugars\": 3, \"potass\": 95, \"vitamins\": 25, \"shelf\": 2, \"weight\": 1.0, \"cups\": 1.0, \"rating\": 54.850917, \"mfr_name\": \"American Home Food Products\"}, {\"name\": \"Muesli Raisins; Dates; & Almonds\", \"mfr\": \"R\", \"type\": \"C\", \"calories\": 150, \"protein\": 4, \"fat\": 3, \"sodium\": 95, \"fiber\": 3.0, \"carbo\": 16.0, \"sugars\": 11, \"potass\": 170, \"vitamins\": 25, \"shelf\": 3, \"weight\": 1.0, \"cups\": 1.0, \"rating\": 37.136863, \"mfr_name\": \"Ralston Purina\"}, {\"name\": \"Muesli Raisins; Peaches; & Pecans\", \"mfr\": \"R\", \"type\": \"C\", \"calories\": 150, \"protein\": 4, \"fat\": 3, \"sodium\": 150, \"fiber\": 3.0, \"carbo\": 16.0, \"sugars\": 11, \"potass\": 170, \"vitamins\": 25, \"shelf\": 3, \"weight\": 1.0, \"cups\": 1.0, \"rating\": 34.139765000000004, \"mfr_name\": \"Ralston Purina\"}, {\"name\": \"Mueslix Crispy Blend\", \"mfr\": \"K\", \"type\": \"C\", \"calories\": 160, \"protein\": 3, \"fat\": 2, \"sodium\": 150, \"fiber\": 3.0, \"carbo\": 17.0, \"sugars\": 13, \"potass\": 160, \"vitamins\": 25, \"shelf\": 3, \"weight\": 1.5, \"cups\": 0.67, \"rating\": 30.313351, \"mfr_name\": \"Kelloggs\"}, {\"name\": \"Multi-Grain Cheerios\", \"mfr\": \"G\", \"type\": \"C\", \"calories\": 100, \"protein\": 2, \"fat\": 1, \"sodium\": 220, \"fiber\": 2.0, \"carbo\": 15.0, \"sugars\": 6, \"potass\": 90, \"vitamins\": 25, \"shelf\": 1, \"weight\": 1.0, \"cups\": 1.0, \"rating\": 40.105965000000005, \"mfr_name\": \"General Mills\"}, {\"name\": \"Nut&Honey Crunch\", \"mfr\": \"K\", \"type\": \"C\", \"calories\": 120, \"protein\": 2, \"fat\": 1, \"sodium\": 190, \"fiber\": 0.0, \"carbo\": 15.0, \"sugars\": 9, \"potass\": 40, \"vitamins\": 25, \"shelf\": 2, \"weight\": 1.0, \"cups\": 0.67, \"rating\": 29.924284999999998, \"mfr_name\": \"Kelloggs\"}, {\"name\": \"Nutri-Grain Almond-Raisin\", \"mfr\": \"K\", \"type\": \"C\", \"calories\": 140, \"protein\": 3, \"fat\": 2, \"sodium\": 220, \"fiber\": 3.0, \"carbo\": 21.0, \"sugars\": 7, \"potass\": 130, \"vitamins\": 25, \"shelf\": 3, \"weight\": 1.33, \"cups\": 0.67, \"rating\": 40.69232, \"mfr_name\": \"Kelloggs\"}, {\"name\": \"Nutri-grain Wheat\", \"mfr\": \"K\", \"type\": \"C\", \"calories\": 90, \"protein\": 3, \"fat\": 0, \"sodium\": 170, \"fiber\": 3.0, \"carbo\": 18.0, \"sugars\": 2, \"potass\": 90, \"vitamins\": 25, \"shelf\": 3, \"weight\": 1.0, \"cups\": 1.0, \"rating\": 59.642837, \"mfr_name\": \"Kelloggs\"}, {\"name\": \"Oatmeal Raisin Crisp\", \"mfr\": \"G\", \"type\": \"C\", \"calories\": 130, \"protein\": 3, \"fat\": 2, \"sodium\": 170, \"fiber\": 1.5, \"carbo\": 13.5, \"sugars\": 10, \"potass\": 120, \"vitamins\": 25, \"shelf\": 3, \"weight\": 1.25, \"cups\": 0.5, \"rating\": 30.450843, \"mfr_name\": \"General Mills\"}, {\"name\": \"Post Nat. Raisin Bran\", \"mfr\": \"P\", \"type\": \"C\", \"calories\": 120, \"protein\": 3, \"fat\": 1, \"sodium\": 200, \"fiber\": 6.0, \"carbo\": 11.0, \"sugars\": 14, \"potass\": 260, \"vitamins\": 25, \"shelf\": 3, \"weight\": 1.33, \"cups\": 0.67, \"rating\": 37.840594, \"mfr_name\": \"Post\"}, {\"name\": \"Product 19\", \"mfr\": \"K\", \"type\": \"C\", \"calories\": 100, \"protein\": 3, \"fat\": 0, \"sodium\": 320, \"fiber\": 1.0, \"carbo\": 20.0, \"sugars\": 3, \"potass\": 45, \"vitamins\": 100, \"shelf\": 3, \"weight\": 1.0, \"cups\": 1.0, \"rating\": 41.50354, \"mfr_name\": \"Kelloggs\"}, {\"name\": \"Puffed Rice\", \"mfr\": \"Q\", \"type\": \"C\", \"calories\": 50, \"protein\": 1, \"fat\": 0, \"sodium\": 0, \"fiber\": 0.0, \"carbo\": 13.0, \"sugars\": 0, \"potass\": 15, \"vitamins\": 0, \"shelf\": 3, \"weight\": 0.5, \"cups\": 1.0, \"rating\": 60.756112, \"mfr_name\": \"Quaker Oats\"}, {\"name\": \"Puffed Wheat\", \"mfr\": \"Q\", \"type\": \"C\", \"calories\": 50, \"protein\": 2, \"fat\": 0, \"sodium\": 0, \"fiber\": 1.0, \"carbo\": 10.0, \"sugars\": 0, \"potass\": 50, \"vitamins\": 0, \"shelf\": 3, \"weight\": 0.5, \"cups\": 1.0, \"rating\": 63.005644999999994, \"mfr_name\": \"Quaker Oats\"}, {\"name\": \"Quaker Oat Squares\", \"mfr\": \"Q\", \"type\": \"C\", \"calories\": 100, \"protein\": 4, \"fat\": 1, \"sodium\": 135, \"fiber\": 2.0, \"carbo\": 14.0, \"sugars\": 6, \"potass\": 110, \"vitamins\": 25, \"shelf\": 3, \"weight\": 1.0, \"cups\": 0.5, \"rating\": 49.511874, \"mfr_name\": \"Quaker Oats\"}, {\"name\": \"Quaker Oatmeal\", \"mfr\": \"Q\", \"type\": \"H\", \"calories\": 100, \"protein\": 5, \"fat\": 2, \"sodium\": 0, \"fiber\": 2.7, \"carbo\": -1.0, \"sugars\": -1, \"potass\": 110, \"vitamins\": 0, \"shelf\": 1, \"weight\": 1.0, \"cups\": 0.67, \"rating\": 50.828392, \"mfr_name\": \"Quaker Oats\"}, {\"name\": \"Raisin Bran\", \"mfr\": \"K\", \"type\": \"C\", \"calories\": 120, \"protein\": 3, \"fat\": 1, \"sodium\": 210, \"fiber\": 5.0, \"carbo\": 14.0, \"sugars\": 12, \"potass\": 240, \"vitamins\": 25, \"shelf\": 2, \"weight\": 1.33, \"cups\": 0.75, \"rating\": 39.259197, \"mfr_name\": \"Kelloggs\"}, {\"name\": \"Raisin Nut Bran\", \"mfr\": \"G\", \"type\": \"C\", \"calories\": 100, \"protein\": 3, \"fat\": 2, \"sodium\": 140, \"fiber\": 2.5, \"carbo\": 10.5, \"sugars\": 8, \"potass\": 140, \"vitamins\": 25, \"shelf\": 3, \"weight\": 1.0, \"cups\": 0.5, \"rating\": 39.7034, \"mfr_name\": \"General Mills\"}, {\"name\": \"Raisin Squares\", \"mfr\": \"K\", \"type\": \"C\", \"calories\": 90, \"protein\": 2, \"fat\": 0, \"sodium\": 0, \"fiber\": 2.0, \"carbo\": 15.0, \"sugars\": 6, \"potass\": 110, \"vitamins\": 25, \"shelf\": 3, \"weight\": 1.0, \"cups\": 0.5, \"rating\": 55.333142, \"mfr_name\": \"Kelloggs\"}, {\"name\": \"Rice Chex\", \"mfr\": \"R\", \"type\": \"C\", \"calories\": 110, \"protein\": 1, \"fat\": 0, \"sodium\": 240, \"fiber\": 0.0, \"carbo\": 23.0, \"sugars\": 2, \"potass\": 30, \"vitamins\": 25, \"shelf\": 1, \"weight\": 1.0, \"cups\": 1.13, \"rating\": 41.998933, \"mfr_name\": \"Ralston Purina\"}, {\"name\": \"Rice Krispies\", \"mfr\": \"K\", \"type\": \"C\", \"calories\": 110, \"protein\": 2, \"fat\": 0, \"sodium\": 290, \"fiber\": 0.0, \"carbo\": 22.0, \"sugars\": 3, \"potass\": 35, \"vitamins\": 25, \"shelf\": 1, \"weight\": 1.0, \"cups\": 1.0, \"rating\": 40.560159000000006, \"mfr_name\": \"Kelloggs\"}, {\"name\": \"Shredded Wheat\", \"mfr\": \"N\", \"type\": \"C\", \"calories\": 80, \"protein\": 2, \"fat\": 0, \"sodium\": 0, \"fiber\": 3.0, \"carbo\": 16.0, \"sugars\": 0, \"potass\": 95, \"vitamins\": 0, \"shelf\": 1, \"weight\": 0.83, \"cups\": 1.0, \"rating\": 68.235885, \"mfr_name\": \"Nabisco\"}, {\"name\": \"Shredded Wheat 'n'Bran\", \"mfr\": \"N\", \"type\": \"C\", \"calories\": 90, \"protein\": 3, \"fat\": 0, \"sodium\": 0, \"fiber\": 4.0, \"carbo\": 19.0, \"sugars\": 0, \"potass\": 140, \"vitamins\": 0, \"shelf\": 1, \"weight\": 1.0, \"cups\": 0.67, \"rating\": 74.472949, \"mfr_name\": \"Nabisco\"}, {\"name\": \"Shredded Wheat spoon size\", \"mfr\": \"N\", \"type\": \"C\", \"calories\": 90, \"protein\": 3, \"fat\": 0, \"sodium\": 0, \"fiber\": 3.0, \"carbo\": 20.0, \"sugars\": 0, \"potass\": 120, \"vitamins\": 0, \"shelf\": 1, \"weight\": 1.0, \"cups\": 0.67, \"rating\": 72.801787, \"mfr_name\": \"Nabisco\"}, {\"name\": \"Smacks\", \"mfr\": \"K\", \"type\": \"C\", \"calories\": 110, \"protein\": 2, \"fat\": 1, \"sodium\": 70, \"fiber\": 1.0, \"carbo\": 9.0, \"sugars\": 15, \"potass\": 40, \"vitamins\": 25, \"shelf\": 2, \"weight\": 1.0, \"cups\": 0.75, \"rating\": 31.230054, \"mfr_name\": \"Kelloggs\"}, {\"name\": \"Special K\", \"mfr\": \"K\", \"type\": \"C\", \"calories\": 110, \"protein\": 6, \"fat\": 0, \"sodium\": 230, \"fiber\": 1.0, \"carbo\": 16.0, \"sugars\": 3, \"potass\": 55, \"vitamins\": 25, \"shelf\": 1, \"weight\": 1.0, \"cups\": 1.0, \"rating\": 53.131324, \"mfr_name\": \"Kelloggs\"}, {\"name\": \"Strawberry Fruit Wheats\", \"mfr\": \"N\", \"type\": \"C\", \"calories\": 90, \"protein\": 2, \"fat\": 0, \"sodium\": 15, \"fiber\": 3.0, \"carbo\": 15.0, \"sugars\": 5, \"potass\": 90, \"vitamins\": 25, \"shelf\": 2, \"weight\": 1.0, \"cups\": 1.0, \"rating\": 59.36399300000001, \"mfr_name\": \"Nabisco\"}, {\"name\": \"Total Corn Flakes\", \"mfr\": \"G\", \"type\": \"C\", \"calories\": 110, \"protein\": 2, \"fat\": 1, \"sodium\": 200, \"fiber\": 0.0, \"carbo\": 21.0, \"sugars\": 3, \"potass\": 35, \"vitamins\": 100, \"shelf\": 3, \"weight\": 1.0, \"cups\": 1.0, \"rating\": 38.839746000000005, \"mfr_name\": \"General Mills\"}, {\"name\": \"Total Raisin Bran\", \"mfr\": \"G\", \"type\": \"C\", \"calories\": 140, \"protein\": 3, \"fat\": 1, \"sodium\": 190, \"fiber\": 4.0, \"carbo\": 15.0, \"sugars\": 14, \"potass\": 230, \"vitamins\": 100, \"shelf\": 3, \"weight\": 1.5, \"cups\": 1.0, \"rating\": 28.592785, \"mfr_name\": \"General Mills\"}, {\"name\": \"Total Whole Grain\", \"mfr\": \"G\", \"type\": \"C\", \"calories\": 100, \"protein\": 3, \"fat\": 1, \"sodium\": 200, \"fiber\": 3.0, \"carbo\": 16.0, \"sugars\": 3, \"potass\": 110, \"vitamins\": 100, \"shelf\": 3, \"weight\": 1.0, \"cups\": 1.0, \"rating\": 46.658844, \"mfr_name\": \"General Mills\"}, {\"name\": \"Triples\", \"mfr\": \"G\", \"type\": \"C\", \"calories\": 110, \"protein\": 2, \"fat\": 1, \"sodium\": 250, \"fiber\": 0.0, \"carbo\": 21.0, \"sugars\": 3, \"potass\": 60, \"vitamins\": 25, \"shelf\": 3, \"weight\": 1.0, \"cups\": 0.75, \"rating\": 39.106173999999996, \"mfr_name\": \"General Mills\"}, {\"name\": \"Trix\", \"mfr\": \"G\", \"type\": \"C\", \"calories\": 110, \"protein\": 1, \"fat\": 1, \"sodium\": 140, \"fiber\": 0.0, \"carbo\": 13.0, \"sugars\": 12, \"potass\": 25, \"vitamins\": 25, \"shelf\": 2, \"weight\": 1.0, \"cups\": 1.0, \"rating\": 27.753301, \"mfr_name\": \"General Mills\"}, {\"name\": \"Wheat Chex\", \"mfr\": \"R\", \"type\": \"C\", \"calories\": 100, \"protein\": 3, \"fat\": 1, \"sodium\": 230, \"fiber\": 3.0, \"carbo\": 17.0, \"sugars\": 3, \"potass\": 115, \"vitamins\": 25, \"shelf\": 1, \"weight\": 1.0, \"cups\": 0.67, \"rating\": 49.787445, \"mfr_name\": \"Ralston Purina\"}, {\"name\": \"Wheaties\", \"mfr\": \"G\", \"type\": \"C\", \"calories\": 100, \"protein\": 3, \"fat\": 1, \"sodium\": 200, \"fiber\": 3.0, \"carbo\": 17.0, \"sugars\": 3, \"potass\": 110, \"vitamins\": 25, \"shelf\": 1, \"weight\": 1.0, \"cups\": 1.0, \"rating\": 51.592193, \"mfr_name\": \"General Mills\"}, {\"name\": \"Wheaties Honey Gold\", \"mfr\": \"G\", \"type\": \"C\", \"calories\": 110, \"protein\": 2, \"fat\": 1, \"sodium\": 200, \"fiber\": 1.0, \"carbo\": 16.0, \"sugars\": 8, \"potass\": 60, \"vitamins\": 25, \"shelf\": 1, \"weight\": 1.0, \"cups\": 0.75, \"rating\": 36.187559, \"mfr_name\": \"General Mills\"}]}}, {\"mode\": \"vega-lite\"});\n",
              "</script>"
            ]
          },
          "metadata": {
            "tags": []
          },
          "execution_count": 11
        }
      ]
    },
    {
      "cell_type": "markdown",
      "metadata": {
        "id": "7EA2lAfbYRAc"
      },
      "source": [
        "# Part 5: Dietary Calculations\n",
        "\n",
        "The marketing team has been able to arrange a partnership between the popular Weight Watchers diet brand and Kelloggs cereal.\n",
        "\n",
        "The [Weight Watchers system](https://www.weightwatchers.com/us/how-it-works/smartpoints) assigns a point value to each food, and participants in the program are allotted a certain number of points each day.\n",
        "\n",
        "One [recent formula](http://www.exercise4weightloss.com/smart-points-calculator.html) for calculating points is:\n",
        "\n",
        "    (Calories * .0305) + (Fat * .275) + (Sugar * .12) - (Protein * .098)\n",
        "\n",
        "First, [select a subset of the data](https://pandas.pydata.org/docs/getting_started/intro_tutorials/03_subset_data.html#how-do-i-filter-specific-rows-from-a-dataframe) containing just cereals manufactured by Kelloggs.\n",
        "\n",
        "Then, [add a new column](https://pandas.pydata.org/docs/getting_started/intro_tutorials/05_add_columns.html) with the Weight Watchers point calculation derived from the data for each of that manufacturer's cereal brands.\n",
        "\n",
        "Finally, calculate the same summary statistics for the points calculations as earlier (mean, median, standard deviation, min, and max)."
      ]
    },
    {
      "cell_type": "code",
      "metadata": {
        "id": "MOxV7Fy232GM",
        "outputId": "e5098d80-f523-49be-b558-1f66feb0d04d",
        "colab": {
          "base_uri": "https://localhost:8080/",
          "height": 204
        }
      },
      "source": [
        "# First, filter the dataset to include only cereals manufactured by Kelloggs\n",
        "kellogs = cereal[ cereal['mfr'] == 'K' ].copy()\n",
        "\n",
        "# Note the addition of the \"copy()\" command at the end. This is to prevent\n",
        "# a SettingWithCopyWarning that Pandas will throw at us if we accidentally\n",
        "# perform a \"chained assignment\" operation. \n",
        "#\n",
        "# There are two ways to fix this. One is to use a copy of the data instead, \n",
        "# which is what we've done here. This works fine if your dataset is small\n",
        "# (this one is).\n",
        "#\n",
        "# The other is to use loc() for indexing instead:\n",
        "#\n",
        "#   cereal.loc[ cereal['mfr'] == 'K', 'name': 'mfr_name' ]\n",
        "#\n",
        "# This basically says: give me the row locations in the data where mfr is equal to K and \n",
        "# include all columns between name and mfr_name (inclusive)\n",
        "#\n",
        "# The docs give a small warning at the end here about this: \n",
        "# https://pandas.pydata.org/pandas-docs/stable/getting_started/intro_tutorials/03_subset_data.html\n",
        "#\n",
        "# For an overview of this problem (which is quote common) see this article:\n",
        "# https://www.dataquest.io/blog/settingwithcopywarning/\n",
        "#\n",
        "# For the technical details, read the Pandas docs section on views vs copies: \n",
        "# https://pandas.pydata.org/pandas-docs/stable/user_guide/indexing.html#returning-a-view-versus-a-copy\n",
        "\n",
        "\n",
        "# Finally, add a new column containing the Weight Watchers point calculations\n",
        "kellogs['WW Points'] = (kellogs['calories'] * .0305) + (kellogs['fat'] * .275) + (kellogs['sugars'] * .12) - (kellogs['protein'] * .098)\n",
        "kellogs[ ['name', 'WW Points', 'calories', 'fat', 'sugars', 'protein'] ].head()"
      ],
      "execution_count": 12,
      "outputs": [
        {
          "output_type": "execute_result",
          "data": {
            "text/html": [
              "<div>\n",
              "<style scoped>\n",
              "    .dataframe tbody tr th:only-of-type {\n",
              "        vertical-align: middle;\n",
              "    }\n",
              "\n",
              "    .dataframe tbody tr th {\n",
              "        vertical-align: top;\n",
              "    }\n",
              "\n",
              "    .dataframe thead th {\n",
              "        text-align: right;\n",
              "    }\n",
              "</style>\n",
              "<table border=\"1\" class=\"dataframe\">\n",
              "  <thead>\n",
              "    <tr style=\"text-align: right;\">\n",
              "      <th></th>\n",
              "      <th>name</th>\n",
              "      <th>WW Points</th>\n",
              "      <th>calories</th>\n",
              "      <th>fat</th>\n",
              "      <th>sugars</th>\n",
              "      <th>protein</th>\n",
              "    </tr>\n",
              "  </thead>\n",
              "  <tbody>\n",
              "    <tr>\n",
              "      <th>2</th>\n",
              "      <td>All-Bran</td>\n",
              "      <td>2.618</td>\n",
              "      <td>70</td>\n",
              "      <td>1</td>\n",
              "      <td>5</td>\n",
              "      <td>4</td>\n",
              "    </tr>\n",
              "    <tr>\n",
              "      <th>3</th>\n",
              "      <td>All-Bran with Extra Fiber</td>\n",
              "      <td>1.133</td>\n",
              "      <td>50</td>\n",
              "      <td>0</td>\n",
              "      <td>0</td>\n",
              "      <td>4</td>\n",
              "    </tr>\n",
              "    <tr>\n",
              "      <th>6</th>\n",
              "      <td>Apple Jacks</td>\n",
              "      <td>4.839</td>\n",
              "      <td>110</td>\n",
              "      <td>0</td>\n",
              "      <td>14</td>\n",
              "      <td>2</td>\n",
              "    </tr>\n",
              "    <tr>\n",
              "      <th>16</th>\n",
              "      <td>Corn Flakes</td>\n",
              "      <td>3.094</td>\n",
              "      <td>100</td>\n",
              "      <td>0</td>\n",
              "      <td>2</td>\n",
              "      <td>2</td>\n",
              "    </tr>\n",
              "    <tr>\n",
              "      <th>17</th>\n",
              "      <td>Corn Pops</td>\n",
              "      <td>4.697</td>\n",
              "      <td>110</td>\n",
              "      <td>0</td>\n",
              "      <td>12</td>\n",
              "      <td>1</td>\n",
              "    </tr>\n",
              "  </tbody>\n",
              "</table>\n",
              "</div>"
            ],
            "text/plain": [
              "                         name  WW Points  calories  fat  sugars  protein\n",
              "2                    All-Bran      2.618        70    1       5        4\n",
              "3   All-Bran with Extra Fiber      1.133        50    0       0        4\n",
              "6                 Apple Jacks      4.839       110    0      14        2\n",
              "16                Corn Flakes      3.094       100    0       2        2\n",
              "17                  Corn Pops      4.697       110    0      12        1"
            ]
          },
          "metadata": {
            "tags": []
          },
          "execution_count": 12
        }
      ]
    },
    {
      "cell_type": "markdown",
      "metadata": {
        "id": "3tOuwFOZYvVP"
      },
      "source": [
        "## 🌟 Above and Beyond 🌟\n",
        "\n",
        "The marketing team is pleased with what you've accomplished so far. They have a meeting with top cereal executives in the morning, and they'd like you to do as many of the following additional tasks as you have time for:\n",
        "\n",
        "1. Weight Watchers used to have an older points system that used this formula: `(calories / 50) + (fat / 12) - (fiber / 5)`, but only the first 4 grams of fiber were included in the calculation. For comparison's sake, create an additional column with the calculation for the old points system.\n",
        "\n",
        "2. Marketing really likes the boxplot of the sugar content for each cereal, they'd like similar plots for calories and fat, but using different color schemes for each chart."
      ]
    }
  ]
}